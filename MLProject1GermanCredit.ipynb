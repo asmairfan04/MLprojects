{
  "nbformat": 4,
  "nbformat_minor": 0,
  "metadata": {
    "colab": {
      "provenance": []
    },
    "kernelspec": {
      "name": "python3",
      "display_name": "Python 3"
    },
    "language_info": {
      "name": "python"
    }
  },
  "cells": [
    {
      "cell_type": "markdown",
      "source": [
        "Importing Credit dataset"
      ],
      "metadata": {
        "id": "2OK3G7YPBCUU"
      }
    },
    {
      "cell_type": "code",
      "execution_count": 1,
      "metadata": {
        "colab": {
          "base_uri": "https://localhost:8080/",
          "height": 73
        },
        "id": "66R9kRFS-yiL",
        "outputId": "febc7611-62fd-4900-fdfe-b13d2dc2e9f5"
      },
      "outputs": [
        {
          "output_type": "display_data",
          "data": {
            "text/plain": [
              "<IPython.core.display.HTML object>"
            ],
            "text/html": [
              "\n",
              "     <input type=\"file\" id=\"files-b61a3537-ad95-4a32-9c33-cce1da89c145\" name=\"files[]\" multiple disabled\n",
              "        style=\"border:none\" />\n",
              "     <output id=\"result-b61a3537-ad95-4a32-9c33-cce1da89c145\">\n",
              "      Upload widget is only available when the cell has been executed in the\n",
              "      current browser session. Please rerun this cell to enable.\n",
              "      </output>\n",
              "      <script>// Copyright 2017 Google LLC\n",
              "//\n",
              "// Licensed under the Apache License, Version 2.0 (the \"License\");\n",
              "// you may not use this file except in compliance with the License.\n",
              "// You may obtain a copy of the License at\n",
              "//\n",
              "//      http://www.apache.org/licenses/LICENSE-2.0\n",
              "//\n",
              "// Unless required by applicable law or agreed to in writing, software\n",
              "// distributed under the License is distributed on an \"AS IS\" BASIS,\n",
              "// WITHOUT WARRANTIES OR CONDITIONS OF ANY KIND, either express or implied.\n",
              "// See the License for the specific language governing permissions and\n",
              "// limitations under the License.\n",
              "\n",
              "/**\n",
              " * @fileoverview Helpers for google.colab Python module.\n",
              " */\n",
              "(function(scope) {\n",
              "function span(text, styleAttributes = {}) {\n",
              "  const element = document.createElement('span');\n",
              "  element.textContent = text;\n",
              "  for (const key of Object.keys(styleAttributes)) {\n",
              "    element.style[key] = styleAttributes[key];\n",
              "  }\n",
              "  return element;\n",
              "}\n",
              "\n",
              "// Max number of bytes which will be uploaded at a time.\n",
              "const MAX_PAYLOAD_SIZE = 100 * 1024;\n",
              "\n",
              "function _uploadFiles(inputId, outputId) {\n",
              "  const steps = uploadFilesStep(inputId, outputId);\n",
              "  const outputElement = document.getElementById(outputId);\n",
              "  // Cache steps on the outputElement to make it available for the next call\n",
              "  // to uploadFilesContinue from Python.\n",
              "  outputElement.steps = steps;\n",
              "\n",
              "  return _uploadFilesContinue(outputId);\n",
              "}\n",
              "\n",
              "// This is roughly an async generator (not supported in the browser yet),\n",
              "// where there are multiple asynchronous steps and the Python side is going\n",
              "// to poll for completion of each step.\n",
              "// This uses a Promise to block the python side on completion of each step,\n",
              "// then passes the result of the previous step as the input to the next step.\n",
              "function _uploadFilesContinue(outputId) {\n",
              "  const outputElement = document.getElementById(outputId);\n",
              "  const steps = outputElement.steps;\n",
              "\n",
              "  const next = steps.next(outputElement.lastPromiseValue);\n",
              "  return Promise.resolve(next.value.promise).then((value) => {\n",
              "    // Cache the last promise value to make it available to the next\n",
              "    // step of the generator.\n",
              "    outputElement.lastPromiseValue = value;\n",
              "    return next.value.response;\n",
              "  });\n",
              "}\n",
              "\n",
              "/**\n",
              " * Generator function which is called between each async step of the upload\n",
              " * process.\n",
              " * @param {string} inputId Element ID of the input file picker element.\n",
              " * @param {string} outputId Element ID of the output display.\n",
              " * @return {!Iterable<!Object>} Iterable of next steps.\n",
              " */\n",
              "function* uploadFilesStep(inputId, outputId) {\n",
              "  const inputElement = document.getElementById(inputId);\n",
              "  inputElement.disabled = false;\n",
              "\n",
              "  const outputElement = document.getElementById(outputId);\n",
              "  outputElement.innerHTML = '';\n",
              "\n",
              "  const pickedPromise = new Promise((resolve) => {\n",
              "    inputElement.addEventListener('change', (e) => {\n",
              "      resolve(e.target.files);\n",
              "    });\n",
              "  });\n",
              "\n",
              "  const cancel = document.createElement('button');\n",
              "  inputElement.parentElement.appendChild(cancel);\n",
              "  cancel.textContent = 'Cancel upload';\n",
              "  const cancelPromise = new Promise((resolve) => {\n",
              "    cancel.onclick = () => {\n",
              "      resolve(null);\n",
              "    };\n",
              "  });\n",
              "\n",
              "  // Wait for the user to pick the files.\n",
              "  const files = yield {\n",
              "    promise: Promise.race([pickedPromise, cancelPromise]),\n",
              "    response: {\n",
              "      action: 'starting',\n",
              "    }\n",
              "  };\n",
              "\n",
              "  cancel.remove();\n",
              "\n",
              "  // Disable the input element since further picks are not allowed.\n",
              "  inputElement.disabled = true;\n",
              "\n",
              "  if (!files) {\n",
              "    return {\n",
              "      response: {\n",
              "        action: 'complete',\n",
              "      }\n",
              "    };\n",
              "  }\n",
              "\n",
              "  for (const file of files) {\n",
              "    const li = document.createElement('li');\n",
              "    li.append(span(file.name, {fontWeight: 'bold'}));\n",
              "    li.append(span(\n",
              "        `(${file.type || 'n/a'}) - ${file.size} bytes, ` +\n",
              "        `last modified: ${\n",
              "            file.lastModifiedDate ? file.lastModifiedDate.toLocaleDateString() :\n",
              "                                    'n/a'} - `));\n",
              "    const percent = span('0% done');\n",
              "    li.appendChild(percent);\n",
              "\n",
              "    outputElement.appendChild(li);\n",
              "\n",
              "    const fileDataPromise = new Promise((resolve) => {\n",
              "      const reader = new FileReader();\n",
              "      reader.onload = (e) => {\n",
              "        resolve(e.target.result);\n",
              "      };\n",
              "      reader.readAsArrayBuffer(file);\n",
              "    });\n",
              "    // Wait for the data to be ready.\n",
              "    let fileData = yield {\n",
              "      promise: fileDataPromise,\n",
              "      response: {\n",
              "        action: 'continue',\n",
              "      }\n",
              "    };\n",
              "\n",
              "    // Use a chunked sending to avoid message size limits. See b/62115660.\n",
              "    let position = 0;\n",
              "    do {\n",
              "      const length = Math.min(fileData.byteLength - position, MAX_PAYLOAD_SIZE);\n",
              "      const chunk = new Uint8Array(fileData, position, length);\n",
              "      position += length;\n",
              "\n",
              "      const base64 = btoa(String.fromCharCode.apply(null, chunk));\n",
              "      yield {\n",
              "        response: {\n",
              "          action: 'append',\n",
              "          file: file.name,\n",
              "          data: base64,\n",
              "        },\n",
              "      };\n",
              "\n",
              "      let percentDone = fileData.byteLength === 0 ?\n",
              "          100 :\n",
              "          Math.round((position / fileData.byteLength) * 100);\n",
              "      percent.textContent = `${percentDone}% done`;\n",
              "\n",
              "    } while (position < fileData.byteLength);\n",
              "  }\n",
              "\n",
              "  // All done.\n",
              "  yield {\n",
              "    response: {\n",
              "      action: 'complete',\n",
              "    }\n",
              "  };\n",
              "}\n",
              "\n",
              "scope.google = scope.google || {};\n",
              "scope.google.colab = scope.google.colab || {};\n",
              "scope.google.colab._files = {\n",
              "  _uploadFiles,\n",
              "  _uploadFilesContinue,\n",
              "};\n",
              "})(self);\n",
              "</script> "
            ]
          },
          "metadata": {}
        },
        {
          "output_type": "stream",
          "name": "stdout",
          "text": [
            "Saving german_credit_data.csv to german_credit_data.csv\n"
          ]
        }
      ],
      "source": [
        "import pandas as pd\n",
        "from google.colab import files\n",
        "uploaded = files.upload()\n",
        "import io\n",
        "names = ['Checking account', 'Duration', 'Credit history', 'Purpose', 'Credit amount', 'Saving accounts', 'Employment since', 'Installment rate', 'Sex', 'Other debtors', 'Present residence since', 'Property', 'Age', 'Other installment plans', 'Housing', 'Existing credits', 'Job', 'Number of liable people',  'Telephone', 'Foreign worker', 'class' ]\n",
        "data = pd.read_csv(io.BytesIO(uploaded['german_credit_data.csv']),names=names)"
      ]
    },
    {
      "cell_type": "markdown",
      "source": [
        "Getting top 10 rows of dataset"
      ],
      "metadata": {
        "id": "xwfI5NRsBH_x"
      }
    },
    {
      "cell_type": "code",
      "source": [
        "data.head(10)"
      ],
      "metadata": {
        "id": "lnhBYmpD_FQq",
        "colab": {
          "base_uri": "https://localhost:8080/",
          "height": 464
        },
        "outputId": "02422f81-6f59-4de6-abc9-0ba191e2957a"
      },
      "execution_count": 77,
      "outputs": [
        {
          "output_type": "execute_result",
          "data": {
            "text/plain": [
              "   Checking account  Credit history  Purpose  Saving accounts  \\\n",
              "0               3.0             4.0      3.0              4.0   \n",
              "1               3.0             3.0      4.0              4.0   \n",
              "2               2.0             2.0      3.0              0.0   \n",
              "3               1.0             2.0      0.0              1.0   \n",
              "4               1.0             2.0      3.0              1.0   \n",
              "5               3.0             2.0      4.0              0.0   \n",
              "6               0.0             4.0      3.0              0.0   \n",
              "7               0.0             2.0      3.0              0.0   \n",
              "8               1.0             3.0      1.0              0.0   \n",
              "9               1.0             1.0      0.0              1.0   \n",
              "\n",
              "   Employment since  Sex  Other debtors  Property  Other installment plans  \\\n",
              "0               2.0  3.0            0.0       2.0                      2.0   \n",
              "1               4.0  2.0            0.0       2.0                      0.0   \n",
              "2               1.0  1.0            0.0       1.0                      1.0   \n",
              "3               2.0  1.0            0.0       2.0                      2.0   \n",
              "4               2.0  1.0            1.0       2.0                      2.0   \n",
              "5               3.0  2.0            0.0       2.0                      2.0   \n",
              "6               1.0  1.0            0.0       1.0                      2.0   \n",
              "7               2.0  2.0            0.0       1.0                      2.0   \n",
              "8               4.0  2.0            0.0       2.0                      2.0   \n",
              "9               0.0  2.0            0.0       1.0                      2.0   \n",
              "\n",
              "   Housing  ...  Telephone  Foreign worker  Duration  Credit amount  \\\n",
              "0      1.0  ...        0.0             1.0  0.088235       0.100088   \n",
              "1      1.0  ...        0.0             0.0  0.647059       0.384505   \n",
              "2      1.0  ...        0.0             0.0  0.205882       0.154011   \n",
              "3      0.0  ...        1.0             0.0  0.161765       0.131011   \n",
              "4      0.0  ...        0.0             0.0  0.382353       0.175580   \n",
              "5      1.0  ...        1.0             0.0  0.294118       0.111918   \n",
              "6      0.0  ...        0.0             0.0  0.205882       0.043964   \n",
              "7      1.0  ...        0.0             0.0  0.294118       0.215638   \n",
              "8      1.0  ...        1.0             0.0  0.338235       0.314460   \n",
              "9      1.0  ...        1.0             0.0  0.161765       0.363156   \n",
              "\n",
              "   Installment rate  Present residence since       Age  Existing credits  \\\n",
              "0          0.333333                 0.000000  0.125000          0.333333   \n",
              "1          0.666667                 0.666667  0.232143          0.333333   \n",
              "2          0.000000                 0.000000  0.464286          0.000000   \n",
              "3          0.333333                 1.000000  0.160714          0.333333   \n",
              "4          0.333333                 1.000000  0.035714          0.000000   \n",
              "5          1.000000                 0.333333  0.160714          0.000000   \n",
              "6          1.000000                 1.000000  0.035714          0.000000   \n",
              "7          1.000000                 1.000000  0.160714          0.000000   \n",
              "8          0.000000                 0.333333  0.196429          0.333333   \n",
              "9          0.000000                 0.333333  0.267857          0.000000   \n",
              "\n",
              "   Number of liable people  class  \n",
              "0                      0.0      0  \n",
              "1                      1.0      0  \n",
              "2                      0.0      0  \n",
              "3                      0.0      1  \n",
              "4                      0.0      1  \n",
              "5                      0.0      0  \n",
              "6                      0.0      0  \n",
              "7                      0.0      0  \n",
              "8                      0.0      0  \n",
              "9                      1.0      1  \n",
              "\n",
              "[10 rows x 21 columns]"
            ],
            "text/html": [
              "\n",
              "  <div id=\"df-00e7e099-f618-4ee2-8f1d-1d6322a57232\" class=\"colab-df-container\">\n",
              "    <div>\n",
              "<style scoped>\n",
              "    .dataframe tbody tr th:only-of-type {\n",
              "        vertical-align: middle;\n",
              "    }\n",
              "\n",
              "    .dataframe tbody tr th {\n",
              "        vertical-align: top;\n",
              "    }\n",
              "\n",
              "    .dataframe thead th {\n",
              "        text-align: right;\n",
              "    }\n",
              "</style>\n",
              "<table border=\"1\" class=\"dataframe\">\n",
              "  <thead>\n",
              "    <tr style=\"text-align: right;\">\n",
              "      <th></th>\n",
              "      <th>Checking account</th>\n",
              "      <th>Credit history</th>\n",
              "      <th>Purpose</th>\n",
              "      <th>Saving accounts</th>\n",
              "      <th>Employment since</th>\n",
              "      <th>Sex</th>\n",
              "      <th>Other debtors</th>\n",
              "      <th>Property</th>\n",
              "      <th>Other installment plans</th>\n",
              "      <th>Housing</th>\n",
              "      <th>...</th>\n",
              "      <th>Telephone</th>\n",
              "      <th>Foreign worker</th>\n",
              "      <th>Duration</th>\n",
              "      <th>Credit amount</th>\n",
              "      <th>Installment rate</th>\n",
              "      <th>Present residence since</th>\n",
              "      <th>Age</th>\n",
              "      <th>Existing credits</th>\n",
              "      <th>Number of liable people</th>\n",
              "      <th>class</th>\n",
              "    </tr>\n",
              "  </thead>\n",
              "  <tbody>\n",
              "    <tr>\n",
              "      <th>0</th>\n",
              "      <td>3.0</td>\n",
              "      <td>4.0</td>\n",
              "      <td>3.0</td>\n",
              "      <td>4.0</td>\n",
              "      <td>2.0</td>\n",
              "      <td>3.0</td>\n",
              "      <td>0.0</td>\n",
              "      <td>2.0</td>\n",
              "      <td>2.0</td>\n",
              "      <td>1.0</td>\n",
              "      <td>...</td>\n",
              "      <td>0.0</td>\n",
              "      <td>1.0</td>\n",
              "      <td>0.088235</td>\n",
              "      <td>0.100088</td>\n",
              "      <td>0.333333</td>\n",
              "      <td>0.000000</td>\n",
              "      <td>0.125000</td>\n",
              "      <td>0.333333</td>\n",
              "      <td>0.0</td>\n",
              "      <td>0</td>\n",
              "    </tr>\n",
              "    <tr>\n",
              "      <th>1</th>\n",
              "      <td>3.0</td>\n",
              "      <td>3.0</td>\n",
              "      <td>4.0</td>\n",
              "      <td>4.0</td>\n",
              "      <td>4.0</td>\n",
              "      <td>2.0</td>\n",
              "      <td>0.0</td>\n",
              "      <td>2.0</td>\n",
              "      <td>0.0</td>\n",
              "      <td>1.0</td>\n",
              "      <td>...</td>\n",
              "      <td>0.0</td>\n",
              "      <td>0.0</td>\n",
              "      <td>0.647059</td>\n",
              "      <td>0.384505</td>\n",
              "      <td>0.666667</td>\n",
              "      <td>0.666667</td>\n",
              "      <td>0.232143</td>\n",
              "      <td>0.333333</td>\n",
              "      <td>1.0</td>\n",
              "      <td>0</td>\n",
              "    </tr>\n",
              "    <tr>\n",
              "      <th>2</th>\n",
              "      <td>2.0</td>\n",
              "      <td>2.0</td>\n",
              "      <td>3.0</td>\n",
              "      <td>0.0</td>\n",
              "      <td>1.0</td>\n",
              "      <td>1.0</td>\n",
              "      <td>0.0</td>\n",
              "      <td>1.0</td>\n",
              "      <td>1.0</td>\n",
              "      <td>1.0</td>\n",
              "      <td>...</td>\n",
              "      <td>0.0</td>\n",
              "      <td>0.0</td>\n",
              "      <td>0.205882</td>\n",
              "      <td>0.154011</td>\n",
              "      <td>0.000000</td>\n",
              "      <td>0.000000</td>\n",
              "      <td>0.464286</td>\n",
              "      <td>0.000000</td>\n",
              "      <td>0.0</td>\n",
              "      <td>0</td>\n",
              "    </tr>\n",
              "    <tr>\n",
              "      <th>3</th>\n",
              "      <td>1.0</td>\n",
              "      <td>2.0</td>\n",
              "      <td>0.0</td>\n",
              "      <td>1.0</td>\n",
              "      <td>2.0</td>\n",
              "      <td>1.0</td>\n",
              "      <td>0.0</td>\n",
              "      <td>2.0</td>\n",
              "      <td>2.0</td>\n",
              "      <td>0.0</td>\n",
              "      <td>...</td>\n",
              "      <td>1.0</td>\n",
              "      <td>0.0</td>\n",
              "      <td>0.161765</td>\n",
              "      <td>0.131011</td>\n",
              "      <td>0.333333</td>\n",
              "      <td>1.000000</td>\n",
              "      <td>0.160714</td>\n",
              "      <td>0.333333</td>\n",
              "      <td>0.0</td>\n",
              "      <td>1</td>\n",
              "    </tr>\n",
              "    <tr>\n",
              "      <th>4</th>\n",
              "      <td>1.0</td>\n",
              "      <td>2.0</td>\n",
              "      <td>3.0</td>\n",
              "      <td>1.0</td>\n",
              "      <td>2.0</td>\n",
              "      <td>1.0</td>\n",
              "      <td>1.0</td>\n",
              "      <td>2.0</td>\n",
              "      <td>2.0</td>\n",
              "      <td>0.0</td>\n",
              "      <td>...</td>\n",
              "      <td>0.0</td>\n",
              "      <td>0.0</td>\n",
              "      <td>0.382353</td>\n",
              "      <td>0.175580</td>\n",
              "      <td>0.333333</td>\n",
              "      <td>1.000000</td>\n",
              "      <td>0.035714</td>\n",
              "      <td>0.000000</td>\n",
              "      <td>0.0</td>\n",
              "      <td>1</td>\n",
              "    </tr>\n",
              "    <tr>\n",
              "      <th>5</th>\n",
              "      <td>3.0</td>\n",
              "      <td>2.0</td>\n",
              "      <td>4.0</td>\n",
              "      <td>0.0</td>\n",
              "      <td>3.0</td>\n",
              "      <td>2.0</td>\n",
              "      <td>0.0</td>\n",
              "      <td>2.0</td>\n",
              "      <td>2.0</td>\n",
              "      <td>1.0</td>\n",
              "      <td>...</td>\n",
              "      <td>1.0</td>\n",
              "      <td>0.0</td>\n",
              "      <td>0.294118</td>\n",
              "      <td>0.111918</td>\n",
              "      <td>1.000000</td>\n",
              "      <td>0.333333</td>\n",
              "      <td>0.160714</td>\n",
              "      <td>0.000000</td>\n",
              "      <td>0.0</td>\n",
              "      <td>0</td>\n",
              "    </tr>\n",
              "    <tr>\n",
              "      <th>6</th>\n",
              "      <td>0.0</td>\n",
              "      <td>4.0</td>\n",
              "      <td>3.0</td>\n",
              "      <td>0.0</td>\n",
              "      <td>1.0</td>\n",
              "      <td>1.0</td>\n",
              "      <td>0.0</td>\n",
              "      <td>1.0</td>\n",
              "      <td>2.0</td>\n",
              "      <td>0.0</td>\n",
              "      <td>...</td>\n",
              "      <td>0.0</td>\n",
              "      <td>0.0</td>\n",
              "      <td>0.205882</td>\n",
              "      <td>0.043964</td>\n",
              "      <td>1.000000</td>\n",
              "      <td>1.000000</td>\n",
              "      <td>0.035714</td>\n",
              "      <td>0.000000</td>\n",
              "      <td>0.0</td>\n",
              "      <td>0</td>\n",
              "    </tr>\n",
              "    <tr>\n",
              "      <th>7</th>\n",
              "      <td>0.0</td>\n",
              "      <td>2.0</td>\n",
              "      <td>3.0</td>\n",
              "      <td>0.0</td>\n",
              "      <td>2.0</td>\n",
              "      <td>2.0</td>\n",
              "      <td>0.0</td>\n",
              "      <td>1.0</td>\n",
              "      <td>2.0</td>\n",
              "      <td>1.0</td>\n",
              "      <td>...</td>\n",
              "      <td>0.0</td>\n",
              "      <td>0.0</td>\n",
              "      <td>0.294118</td>\n",
              "      <td>0.215638</td>\n",
              "      <td>1.000000</td>\n",
              "      <td>1.000000</td>\n",
              "      <td>0.160714</td>\n",
              "      <td>0.000000</td>\n",
              "      <td>0.0</td>\n",
              "      <td>0</td>\n",
              "    </tr>\n",
              "    <tr>\n",
              "      <th>8</th>\n",
              "      <td>1.0</td>\n",
              "      <td>3.0</td>\n",
              "      <td>1.0</td>\n",
              "      <td>0.0</td>\n",
              "      <td>4.0</td>\n",
              "      <td>2.0</td>\n",
              "      <td>0.0</td>\n",
              "      <td>2.0</td>\n",
              "      <td>2.0</td>\n",
              "      <td>1.0</td>\n",
              "      <td>...</td>\n",
              "      <td>1.0</td>\n",
              "      <td>0.0</td>\n",
              "      <td>0.338235</td>\n",
              "      <td>0.314460</td>\n",
              "      <td>0.000000</td>\n",
              "      <td>0.333333</td>\n",
              "      <td>0.196429</td>\n",
              "      <td>0.333333</td>\n",
              "      <td>0.0</td>\n",
              "      <td>0</td>\n",
              "    </tr>\n",
              "    <tr>\n",
              "      <th>9</th>\n",
              "      <td>1.0</td>\n",
              "      <td>1.0</td>\n",
              "      <td>0.0</td>\n",
              "      <td>1.0</td>\n",
              "      <td>0.0</td>\n",
              "      <td>2.0</td>\n",
              "      <td>0.0</td>\n",
              "      <td>1.0</td>\n",
              "      <td>2.0</td>\n",
              "      <td>1.0</td>\n",
              "      <td>...</td>\n",
              "      <td>1.0</td>\n",
              "      <td>0.0</td>\n",
              "      <td>0.161765</td>\n",
              "      <td>0.363156</td>\n",
              "      <td>0.000000</td>\n",
              "      <td>0.333333</td>\n",
              "      <td>0.267857</td>\n",
              "      <td>0.000000</td>\n",
              "      <td>1.0</td>\n",
              "      <td>1</td>\n",
              "    </tr>\n",
              "  </tbody>\n",
              "</table>\n",
              "<p>10 rows × 21 columns</p>\n",
              "</div>\n",
              "    <div class=\"colab-df-buttons\">\n",
              "\n",
              "  <div class=\"colab-df-container\">\n",
              "    <button class=\"colab-df-convert\" onclick=\"convertToInteractive('df-00e7e099-f618-4ee2-8f1d-1d6322a57232')\"\n",
              "            title=\"Convert this dataframe to an interactive table.\"\n",
              "            style=\"display:none;\">\n",
              "\n",
              "  <svg xmlns=\"http://www.w3.org/2000/svg\" height=\"24px\" viewBox=\"0 -960 960 960\">\n",
              "    <path d=\"M120-120v-720h720v720H120Zm60-500h600v-160H180v160Zm220 220h160v-160H400v160Zm0 220h160v-160H400v160ZM180-400h160v-160H180v160Zm440 0h160v-160H620v160ZM180-180h160v-160H180v160Zm440 0h160v-160H620v160Z\"/>\n",
              "  </svg>\n",
              "    </button>\n",
              "\n",
              "  <style>\n",
              "    .colab-df-container {\n",
              "      display:flex;\n",
              "      gap: 12px;\n",
              "    }\n",
              "\n",
              "    .colab-df-convert {\n",
              "      background-color: #E8F0FE;\n",
              "      border: none;\n",
              "      border-radius: 50%;\n",
              "      cursor: pointer;\n",
              "      display: none;\n",
              "      fill: #1967D2;\n",
              "      height: 32px;\n",
              "      padding: 0 0 0 0;\n",
              "      width: 32px;\n",
              "    }\n",
              "\n",
              "    .colab-df-convert:hover {\n",
              "      background-color: #E2EBFA;\n",
              "      box-shadow: 0px 1px 2px rgba(60, 64, 67, 0.3), 0px 1px 3px 1px rgba(60, 64, 67, 0.15);\n",
              "      fill: #174EA6;\n",
              "    }\n",
              "\n",
              "    .colab-df-buttons div {\n",
              "      margin-bottom: 4px;\n",
              "    }\n",
              "\n",
              "    [theme=dark] .colab-df-convert {\n",
              "      background-color: #3B4455;\n",
              "      fill: #D2E3FC;\n",
              "    }\n",
              "\n",
              "    [theme=dark] .colab-df-convert:hover {\n",
              "      background-color: #434B5C;\n",
              "      box-shadow: 0px 1px 3px 1px rgba(0, 0, 0, 0.15);\n",
              "      filter: drop-shadow(0px 1px 2px rgba(0, 0, 0, 0.3));\n",
              "      fill: #FFFFFF;\n",
              "    }\n",
              "  </style>\n",
              "\n",
              "    <script>\n",
              "      const buttonEl =\n",
              "        document.querySelector('#df-00e7e099-f618-4ee2-8f1d-1d6322a57232 button.colab-df-convert');\n",
              "      buttonEl.style.display =\n",
              "        google.colab.kernel.accessAllowed ? 'block' : 'none';\n",
              "\n",
              "      async function convertToInteractive(key) {\n",
              "        const element = document.querySelector('#df-00e7e099-f618-4ee2-8f1d-1d6322a57232');\n",
              "        const dataTable =\n",
              "          await google.colab.kernel.invokeFunction('convertToInteractive',\n",
              "                                                    [key], {});\n",
              "        if (!dataTable) return;\n",
              "\n",
              "        const docLinkHtml = 'Like what you see? Visit the ' +\n",
              "          '<a target=\"_blank\" href=https://colab.research.google.com/notebooks/data_table.ipynb>data table notebook</a>'\n",
              "          + ' to learn more about interactive tables.';\n",
              "        element.innerHTML = '';\n",
              "        dataTable['output_type'] = 'display_data';\n",
              "        await google.colab.output.renderOutput(dataTable, element);\n",
              "        const docLink = document.createElement('div');\n",
              "        docLink.innerHTML = docLinkHtml;\n",
              "        element.appendChild(docLink);\n",
              "      }\n",
              "    </script>\n",
              "  </div>\n",
              "\n",
              "\n",
              "<div id=\"df-a6a604f2-2eee-48f1-8440-1d52b2c552b4\">\n",
              "  <button class=\"colab-df-quickchart\" onclick=\"quickchart('df-a6a604f2-2eee-48f1-8440-1d52b2c552b4')\"\n",
              "            title=\"Suggest charts\"\n",
              "            style=\"display:none;\">\n",
              "\n",
              "<svg xmlns=\"http://www.w3.org/2000/svg\" height=\"24px\"viewBox=\"0 0 24 24\"\n",
              "     width=\"24px\">\n",
              "    <g>\n",
              "        <path d=\"M19 3H5c-1.1 0-2 .9-2 2v14c0 1.1.9 2 2 2h14c1.1 0 2-.9 2-2V5c0-1.1-.9-2-2-2zM9 17H7v-7h2v7zm4 0h-2V7h2v10zm4 0h-2v-4h2v4z\"/>\n",
              "    </g>\n",
              "</svg>\n",
              "  </button>\n",
              "\n",
              "<style>\n",
              "  .colab-df-quickchart {\n",
              "      --bg-color: #E8F0FE;\n",
              "      --fill-color: #1967D2;\n",
              "      --hover-bg-color: #E2EBFA;\n",
              "      --hover-fill-color: #174EA6;\n",
              "      --disabled-fill-color: #AAA;\n",
              "      --disabled-bg-color: #DDD;\n",
              "  }\n",
              "\n",
              "  [theme=dark] .colab-df-quickchart {\n",
              "      --bg-color: #3B4455;\n",
              "      --fill-color: #D2E3FC;\n",
              "      --hover-bg-color: #434B5C;\n",
              "      --hover-fill-color: #FFFFFF;\n",
              "      --disabled-bg-color: #3B4455;\n",
              "      --disabled-fill-color: #666;\n",
              "  }\n",
              "\n",
              "  .colab-df-quickchart {\n",
              "    background-color: var(--bg-color);\n",
              "    border: none;\n",
              "    border-radius: 50%;\n",
              "    cursor: pointer;\n",
              "    display: none;\n",
              "    fill: var(--fill-color);\n",
              "    height: 32px;\n",
              "    padding: 0;\n",
              "    width: 32px;\n",
              "  }\n",
              "\n",
              "  .colab-df-quickchart:hover {\n",
              "    background-color: var(--hover-bg-color);\n",
              "    box-shadow: 0 1px 2px rgba(60, 64, 67, 0.3), 0 1px 3px 1px rgba(60, 64, 67, 0.15);\n",
              "    fill: var(--button-hover-fill-color);\n",
              "  }\n",
              "\n",
              "  .colab-df-quickchart-complete:disabled,\n",
              "  .colab-df-quickchart-complete:disabled:hover {\n",
              "    background-color: var(--disabled-bg-color);\n",
              "    fill: var(--disabled-fill-color);\n",
              "    box-shadow: none;\n",
              "  }\n",
              "\n",
              "  .colab-df-spinner {\n",
              "    border: 2px solid var(--fill-color);\n",
              "    border-color: transparent;\n",
              "    border-bottom-color: var(--fill-color);\n",
              "    animation:\n",
              "      spin 1s steps(1) infinite;\n",
              "  }\n",
              "\n",
              "  @keyframes spin {\n",
              "    0% {\n",
              "      border-color: transparent;\n",
              "      border-bottom-color: var(--fill-color);\n",
              "      border-left-color: var(--fill-color);\n",
              "    }\n",
              "    20% {\n",
              "      border-color: transparent;\n",
              "      border-left-color: var(--fill-color);\n",
              "      border-top-color: var(--fill-color);\n",
              "    }\n",
              "    30% {\n",
              "      border-color: transparent;\n",
              "      border-left-color: var(--fill-color);\n",
              "      border-top-color: var(--fill-color);\n",
              "      border-right-color: var(--fill-color);\n",
              "    }\n",
              "    40% {\n",
              "      border-color: transparent;\n",
              "      border-right-color: var(--fill-color);\n",
              "      border-top-color: var(--fill-color);\n",
              "    }\n",
              "    60% {\n",
              "      border-color: transparent;\n",
              "      border-right-color: var(--fill-color);\n",
              "    }\n",
              "    80% {\n",
              "      border-color: transparent;\n",
              "      border-right-color: var(--fill-color);\n",
              "      border-bottom-color: var(--fill-color);\n",
              "    }\n",
              "    90% {\n",
              "      border-color: transparent;\n",
              "      border-bottom-color: var(--fill-color);\n",
              "    }\n",
              "  }\n",
              "</style>\n",
              "\n",
              "  <script>\n",
              "    async function quickchart(key) {\n",
              "      const quickchartButtonEl =\n",
              "        document.querySelector('#' + key + ' button');\n",
              "      quickchartButtonEl.disabled = true;  // To prevent multiple clicks.\n",
              "      quickchartButtonEl.classList.add('colab-df-spinner');\n",
              "      try {\n",
              "        const charts = await google.colab.kernel.invokeFunction(\n",
              "            'suggestCharts', [key], {});\n",
              "      } catch (error) {\n",
              "        console.error('Error during call to suggestCharts:', error);\n",
              "      }\n",
              "      quickchartButtonEl.classList.remove('colab-df-spinner');\n",
              "      quickchartButtonEl.classList.add('colab-df-quickchart-complete');\n",
              "    }\n",
              "    (() => {\n",
              "      let quickchartButtonEl =\n",
              "        document.querySelector('#df-a6a604f2-2eee-48f1-8440-1d52b2c552b4 button');\n",
              "      quickchartButtonEl.style.display =\n",
              "        google.colab.kernel.accessAllowed ? 'block' : 'none';\n",
              "    })();\n",
              "  </script>\n",
              "</div>\n",
              "\n",
              "    </div>\n",
              "  </div>\n"
            ],
            "application/vnd.google.colaboratory.intrinsic+json": {
              "type": "dataframe",
              "variable_name": "data"
            }
          },
          "metadata": {},
          "execution_count": 77
        }
      ]
    },
    {
      "cell_type": "markdown",
      "source": [
        "Getting dimensions of dataset"
      ],
      "metadata": {
        "id": "5oz6iZ3DBMle"
      }
    },
    {
      "cell_type": "code",
      "source": [
        "data.shape"
      ],
      "metadata": {
        "colab": {
          "base_uri": "https://localhost:8080/"
        },
        "id": "ya4erDprKmlc",
        "outputId": "a30883c8-67c8-44f4-c51a-ee16f5b1e672"
      },
      "execution_count": 78,
      "outputs": [
        {
          "output_type": "execute_result",
          "data": {
            "text/plain": [
              "(836, 21)"
            ]
          },
          "metadata": {},
          "execution_count": 78
        }
      ]
    },
    {
      "cell_type": "markdown",
      "source": [
        "##**R1**"
      ],
      "metadata": {
        "id": "Nb8XRnaCBQcA"
      }
    },
    {
      "cell_type": "markdown",
      "source": [
        "Apply\n",
        "\n",
        "1.   MinMaxScalar to numerical data to normalise it\n",
        "2.   LabelEncoder on the class column\n",
        "3.   OrdinalEncoder to do one hot encoding on Categorical Data\n",
        "\n"
      ],
      "metadata": {
        "id": "hJiftakrBtuq"
      }
    },
    {
      "cell_type": "code",
      "source": [
        "import pandas as pd\n",
        "from sklearn.preprocessing import LabelEncoder, MinMaxScaler, OrdinalEncoder\n",
        "from sklearn.preprocessing import OneHotEncoder\n",
        "from sklearn.compose import ColumnTransformer\n",
        "\n",
        "# Define numerical and categorical variables\n",
        "num_cols = ['Duration', 'Credit amount', 'Installment rate', 'Present residence since', 'Age', 'Existing credits', 'Number of liable people']\n",
        "cat_cols = ['Checking account', 'Credit history', 'Purpose', 'Saving accounts', 'Employment since', 'Sex',\n",
        "            'Other debtors', 'Property', 'Other installment plans', 'Housing', 'Job', 'Telephone', 'Foreign worker']\n",
        "\n",
        "# Apply LabelEncoder to class labels\n",
        "class_le = LabelEncoder()\n",
        "y = class_le.fit_transform(data['class'])\n",
        "y = pd.DataFrame(y, columns=['class'])\n",
        "\n",
        "# Apply MinMaxScaler to numerical variables\n",
        "scaler = MinMaxScaler()\n",
        "scaled_num = scaler.fit_transform(data[num_cols])\n",
        "\n",
        "# Create DataFrame from scaled numerical variables\n",
        "scaled_df = pd.DataFrame(scaled_num, columns=num_cols)\n",
        "\n",
        "ohe = OneHotEncoder(drop='first', sparse=False)\n",
        "\n",
        "oe = OrdinalEncoder()\n",
        "oe.fit(data[cat_cols])\n",
        "encoded_cat = oe.transform(data[cat_cols])\n",
        "encoded_columns = oe.get_feature_names_out(cat_cols)\n",
        "\n",
        "encoded_df = pd.DataFrame(encoded_cat, columns=encoded_columns)\n",
        "\n",
        "# Concatenate encoded categorical variables and scaled numerical variables\n",
        "x = pd.concat([encoded_df, scaled_df], axis=1)\n",
        "\n",
        "# Print the preprocessed DataFrame\n",
        "print(x.columns)\n",
        "x\n"
      ],
      "metadata": {
        "colab": {
          "base_uri": "https://localhost:8080/",
          "height": 617
        },
        "id": "C5y2P-rfLVBM",
        "outputId": "01e322bd-3630-46ed-b332-f6467e18697a"
      },
      "execution_count": 79,
      "outputs": [
        {
          "output_type": "stream",
          "name": "stdout",
          "text": [
            "Index(['Checking account', 'Credit history', 'Purpose', 'Saving accounts',\n",
            "       'Employment since', 'Sex', 'Other debtors', 'Property',\n",
            "       'Other installment plans', 'Housing', 'Job', 'Telephone',\n",
            "       'Foreign worker', 'Duration', 'Credit amount', 'Installment rate',\n",
            "       'Present residence since', 'Age', 'Existing credits',\n",
            "       'Number of liable people'],\n",
            "      dtype='object')\n"
          ]
        },
        {
          "output_type": "execute_result",
          "data": {
            "text/plain": [
              "     Checking account  Credit history  Purpose  Saving accounts  \\\n",
              "0                 3.0            41.0      3.0              4.0   \n",
              "1                 3.0            29.0      4.0              4.0   \n",
              "2                 2.0            20.0      3.0              0.0   \n",
              "3                 1.0            20.0      0.0              1.0   \n",
              "4                 1.0            20.0      3.0              1.0   \n",
              "..                ...             ...      ...              ...   \n",
              "831               0.0            20.0      0.0              0.0   \n",
              "832               3.0            41.0      0.0              0.0   \n",
              "833               0.0            20.0      3.0              0.0   \n",
              "834               0.0            38.0      1.0              0.0   \n",
              "835               0.0            20.0      1.0              0.0   \n",
              "\n",
              "     Employment since  Sex  Other debtors  Property  Other installment plans  \\\n",
              "0                31.0  3.0            0.0      31.0                      2.0   \n",
              "1                50.0  2.0            0.0      31.0                      0.0   \n",
              "2                15.0  1.0            0.0      13.0                      1.0   \n",
              "3                31.0  1.0            0.0      31.0                      2.0   \n",
              "4                31.0  1.0            1.0      31.0                      2.0   \n",
              "..                ...  ...            ...       ...                      ...   \n",
              "831              12.0  1.0            0.0       0.0                      2.0   \n",
              "832              28.0  2.0            0.0      44.0                      0.0   \n",
              "833              44.0  2.0            0.0      31.0                      2.0   \n",
              "834              50.0  2.0            0.0      44.0                      2.0   \n",
              "835              50.0  2.0            0.0      44.0                      2.0   \n",
              "\n",
              "     Housing   Job  Telephone  Foreign worker  Duration  Credit amount  \\\n",
              "0        1.0  40.0        0.0             7.0  0.107143       0.100088   \n",
              "1        1.0  40.0        0.0             0.0  0.785714       0.384505   \n",
              "2        1.0   9.0        0.0             0.0  0.250000       0.154011   \n",
              "3        0.0  40.0        1.0             0.0  0.196429       0.131011   \n",
              "4        0.0  40.0        0.0             0.0  0.464286       0.175580   \n",
              "..       ...   ...        ...             ...       ...            ...   \n",
              "831      1.0   8.0        0.0             0.0  0.142857       0.128150   \n",
              "832      1.0  40.0        0.0             0.0  0.357143       0.543469   \n",
              "833      1.0  40.0        0.0             0.0  0.571429       0.025806   \n",
              "834      2.0  40.0        0.0             0.0  0.785714       0.048751   \n",
              "835      2.0  71.0        1.0             0.0  0.571429       0.172554   \n",
              "\n",
              "     Installment rate  Present residence since       Age  Existing credits  \\\n",
              "0            0.333333                 0.000000  0.125000          0.333333   \n",
              "1            0.666667                 0.666667  0.232143          0.333333   \n",
              "2            0.000000                 0.000000  0.464286          0.000000   \n",
              "3            0.333333                 1.000000  0.160714          0.333333   \n",
              "4            0.333333                 1.000000  0.035714          0.000000   \n",
              "..                ...                      ...       ...               ...   \n",
              "831          0.729599                 0.000000  0.287715          0.000000   \n",
              "832          0.452907                 0.333333  0.427211          0.000000   \n",
              "833          0.582707                 1.000000  0.256814          0.000000   \n",
              "834          1.000000                 1.000000  0.511003          0.000000   \n",
              "835          1.000000                 1.000000  0.504067          0.000000   \n",
              "\n",
              "     Number of liable people  \n",
              "0                        0.0  \n",
              "1                        1.0  \n",
              "2                        0.0  \n",
              "3                        0.0  \n",
              "4                        0.0  \n",
              "..                       ...  \n",
              "831                      0.0  \n",
              "832                      0.0  \n",
              "833                      0.0  \n",
              "834                      0.0  \n",
              "835                      0.0  \n",
              "\n",
              "[836 rows x 20 columns]"
            ],
            "text/html": [
              "\n",
              "  <div id=\"df-3e73aa01-0f68-4cf4-824b-2c1b61e0c439\" class=\"colab-df-container\">\n",
              "    <div>\n",
              "<style scoped>\n",
              "    .dataframe tbody tr th:only-of-type {\n",
              "        vertical-align: middle;\n",
              "    }\n",
              "\n",
              "    .dataframe tbody tr th {\n",
              "        vertical-align: top;\n",
              "    }\n",
              "\n",
              "    .dataframe thead th {\n",
              "        text-align: right;\n",
              "    }\n",
              "</style>\n",
              "<table border=\"1\" class=\"dataframe\">\n",
              "  <thead>\n",
              "    <tr style=\"text-align: right;\">\n",
              "      <th></th>\n",
              "      <th>Checking account</th>\n",
              "      <th>Credit history</th>\n",
              "      <th>Purpose</th>\n",
              "      <th>Saving accounts</th>\n",
              "      <th>Employment since</th>\n",
              "      <th>Sex</th>\n",
              "      <th>Other debtors</th>\n",
              "      <th>Property</th>\n",
              "      <th>Other installment plans</th>\n",
              "      <th>Housing</th>\n",
              "      <th>Job</th>\n",
              "      <th>Telephone</th>\n",
              "      <th>Foreign worker</th>\n",
              "      <th>Duration</th>\n",
              "      <th>Credit amount</th>\n",
              "      <th>Installment rate</th>\n",
              "      <th>Present residence since</th>\n",
              "      <th>Age</th>\n",
              "      <th>Existing credits</th>\n",
              "      <th>Number of liable people</th>\n",
              "    </tr>\n",
              "  </thead>\n",
              "  <tbody>\n",
              "    <tr>\n",
              "      <th>0</th>\n",
              "      <td>3.0</td>\n",
              "      <td>41.0</td>\n",
              "      <td>3.0</td>\n",
              "      <td>4.0</td>\n",
              "      <td>31.0</td>\n",
              "      <td>3.0</td>\n",
              "      <td>0.0</td>\n",
              "      <td>31.0</td>\n",
              "      <td>2.0</td>\n",
              "      <td>1.0</td>\n",
              "      <td>40.0</td>\n",
              "      <td>0.0</td>\n",
              "      <td>7.0</td>\n",
              "      <td>0.107143</td>\n",
              "      <td>0.100088</td>\n",
              "      <td>0.333333</td>\n",
              "      <td>0.000000</td>\n",
              "      <td>0.125000</td>\n",
              "      <td>0.333333</td>\n",
              "      <td>0.0</td>\n",
              "    </tr>\n",
              "    <tr>\n",
              "      <th>1</th>\n",
              "      <td>3.0</td>\n",
              "      <td>29.0</td>\n",
              "      <td>4.0</td>\n",
              "      <td>4.0</td>\n",
              "      <td>50.0</td>\n",
              "      <td>2.0</td>\n",
              "      <td>0.0</td>\n",
              "      <td>31.0</td>\n",
              "      <td>0.0</td>\n",
              "      <td>1.0</td>\n",
              "      <td>40.0</td>\n",
              "      <td>0.0</td>\n",
              "      <td>0.0</td>\n",
              "      <td>0.785714</td>\n",
              "      <td>0.384505</td>\n",
              "      <td>0.666667</td>\n",
              "      <td>0.666667</td>\n",
              "      <td>0.232143</td>\n",
              "      <td>0.333333</td>\n",
              "      <td>1.0</td>\n",
              "    </tr>\n",
              "    <tr>\n",
              "      <th>2</th>\n",
              "      <td>2.0</td>\n",
              "      <td>20.0</td>\n",
              "      <td>3.0</td>\n",
              "      <td>0.0</td>\n",
              "      <td>15.0</td>\n",
              "      <td>1.0</td>\n",
              "      <td>0.0</td>\n",
              "      <td>13.0</td>\n",
              "      <td>1.0</td>\n",
              "      <td>1.0</td>\n",
              "      <td>9.0</td>\n",
              "      <td>0.0</td>\n",
              "      <td>0.0</td>\n",
              "      <td>0.250000</td>\n",
              "      <td>0.154011</td>\n",
              "      <td>0.000000</td>\n",
              "      <td>0.000000</td>\n",
              "      <td>0.464286</td>\n",
              "      <td>0.000000</td>\n",
              "      <td>0.0</td>\n",
              "    </tr>\n",
              "    <tr>\n",
              "      <th>3</th>\n",
              "      <td>1.0</td>\n",
              "      <td>20.0</td>\n",
              "      <td>0.0</td>\n",
              "      <td>1.0</td>\n",
              "      <td>31.0</td>\n",
              "      <td>1.0</td>\n",
              "      <td>0.0</td>\n",
              "      <td>31.0</td>\n",
              "      <td>2.0</td>\n",
              "      <td>0.0</td>\n",
              "      <td>40.0</td>\n",
              "      <td>1.0</td>\n",
              "      <td>0.0</td>\n",
              "      <td>0.196429</td>\n",
              "      <td>0.131011</td>\n",
              "      <td>0.333333</td>\n",
              "      <td>1.000000</td>\n",
              "      <td>0.160714</td>\n",
              "      <td>0.333333</td>\n",
              "      <td>0.0</td>\n",
              "    </tr>\n",
              "    <tr>\n",
              "      <th>4</th>\n",
              "      <td>1.0</td>\n",
              "      <td>20.0</td>\n",
              "      <td>3.0</td>\n",
              "      <td>1.0</td>\n",
              "      <td>31.0</td>\n",
              "      <td>1.0</td>\n",
              "      <td>1.0</td>\n",
              "      <td>31.0</td>\n",
              "      <td>2.0</td>\n",
              "      <td>0.0</td>\n",
              "      <td>40.0</td>\n",
              "      <td>0.0</td>\n",
              "      <td>0.0</td>\n",
              "      <td>0.464286</td>\n",
              "      <td>0.175580</td>\n",
              "      <td>0.333333</td>\n",
              "      <td>1.000000</td>\n",
              "      <td>0.035714</td>\n",
              "      <td>0.000000</td>\n",
              "      <td>0.0</td>\n",
              "    </tr>\n",
              "    <tr>\n",
              "      <th>...</th>\n",
              "      <td>...</td>\n",
              "      <td>...</td>\n",
              "      <td>...</td>\n",
              "      <td>...</td>\n",
              "      <td>...</td>\n",
              "      <td>...</td>\n",
              "      <td>...</td>\n",
              "      <td>...</td>\n",
              "      <td>...</td>\n",
              "      <td>...</td>\n",
              "      <td>...</td>\n",
              "      <td>...</td>\n",
              "      <td>...</td>\n",
              "      <td>...</td>\n",
              "      <td>...</td>\n",
              "      <td>...</td>\n",
              "      <td>...</td>\n",
              "      <td>...</td>\n",
              "      <td>...</td>\n",
              "      <td>...</td>\n",
              "    </tr>\n",
              "    <tr>\n",
              "      <th>831</th>\n",
              "      <td>0.0</td>\n",
              "      <td>20.0</td>\n",
              "      <td>0.0</td>\n",
              "      <td>0.0</td>\n",
              "      <td>12.0</td>\n",
              "      <td>1.0</td>\n",
              "      <td>0.0</td>\n",
              "      <td>0.0</td>\n",
              "      <td>2.0</td>\n",
              "      <td>1.0</td>\n",
              "      <td>8.0</td>\n",
              "      <td>0.0</td>\n",
              "      <td>0.0</td>\n",
              "      <td>0.142857</td>\n",
              "      <td>0.128150</td>\n",
              "      <td>0.729599</td>\n",
              "      <td>0.000000</td>\n",
              "      <td>0.287715</td>\n",
              "      <td>0.000000</td>\n",
              "      <td>0.0</td>\n",
              "    </tr>\n",
              "    <tr>\n",
              "      <th>832</th>\n",
              "      <td>3.0</td>\n",
              "      <td>41.0</td>\n",
              "      <td>0.0</td>\n",
              "      <td>0.0</td>\n",
              "      <td>28.0</td>\n",
              "      <td>2.0</td>\n",
              "      <td>0.0</td>\n",
              "      <td>44.0</td>\n",
              "      <td>0.0</td>\n",
              "      <td>1.0</td>\n",
              "      <td>40.0</td>\n",
              "      <td>0.0</td>\n",
              "      <td>0.0</td>\n",
              "      <td>0.357143</td>\n",
              "      <td>0.543469</td>\n",
              "      <td>0.452907</td>\n",
              "      <td>0.333333</td>\n",
              "      <td>0.427211</td>\n",
              "      <td>0.000000</td>\n",
              "      <td>0.0</td>\n",
              "    </tr>\n",
              "    <tr>\n",
              "      <th>833</th>\n",
              "      <td>0.0</td>\n",
              "      <td>20.0</td>\n",
              "      <td>3.0</td>\n",
              "      <td>0.0</td>\n",
              "      <td>44.0</td>\n",
              "      <td>2.0</td>\n",
              "      <td>0.0</td>\n",
              "      <td>31.0</td>\n",
              "      <td>2.0</td>\n",
              "      <td>1.0</td>\n",
              "      <td>40.0</td>\n",
              "      <td>0.0</td>\n",
              "      <td>0.0</td>\n",
              "      <td>0.571429</td>\n",
              "      <td>0.025806</td>\n",
              "      <td>0.582707</td>\n",
              "      <td>1.000000</td>\n",
              "      <td>0.256814</td>\n",
              "      <td>0.000000</td>\n",
              "      <td>0.0</td>\n",
              "    </tr>\n",
              "    <tr>\n",
              "      <th>834</th>\n",
              "      <td>0.0</td>\n",
              "      <td>38.0</td>\n",
              "      <td>1.0</td>\n",
              "      <td>0.0</td>\n",
              "      <td>50.0</td>\n",
              "      <td>2.0</td>\n",
              "      <td>0.0</td>\n",
              "      <td>44.0</td>\n",
              "      <td>2.0</td>\n",
              "      <td>2.0</td>\n",
              "      <td>40.0</td>\n",
              "      <td>0.0</td>\n",
              "      <td>0.0</td>\n",
              "      <td>0.785714</td>\n",
              "      <td>0.048751</td>\n",
              "      <td>1.000000</td>\n",
              "      <td>1.000000</td>\n",
              "      <td>0.511003</td>\n",
              "      <td>0.000000</td>\n",
              "      <td>0.0</td>\n",
              "    </tr>\n",
              "    <tr>\n",
              "      <th>835</th>\n",
              "      <td>0.0</td>\n",
              "      <td>20.0</td>\n",
              "      <td>1.0</td>\n",
              "      <td>0.0</td>\n",
              "      <td>50.0</td>\n",
              "      <td>2.0</td>\n",
              "      <td>0.0</td>\n",
              "      <td>44.0</td>\n",
              "      <td>2.0</td>\n",
              "      <td>2.0</td>\n",
              "      <td>71.0</td>\n",
              "      <td>1.0</td>\n",
              "      <td>0.0</td>\n",
              "      <td>0.571429</td>\n",
              "      <td>0.172554</td>\n",
              "      <td>1.000000</td>\n",
              "      <td>1.000000</td>\n",
              "      <td>0.504067</td>\n",
              "      <td>0.000000</td>\n",
              "      <td>0.0</td>\n",
              "    </tr>\n",
              "  </tbody>\n",
              "</table>\n",
              "<p>836 rows × 20 columns</p>\n",
              "</div>\n",
              "    <div class=\"colab-df-buttons\">\n",
              "\n",
              "  <div class=\"colab-df-container\">\n",
              "    <button class=\"colab-df-convert\" onclick=\"convertToInteractive('df-3e73aa01-0f68-4cf4-824b-2c1b61e0c439')\"\n",
              "            title=\"Convert this dataframe to an interactive table.\"\n",
              "            style=\"display:none;\">\n",
              "\n",
              "  <svg xmlns=\"http://www.w3.org/2000/svg\" height=\"24px\" viewBox=\"0 -960 960 960\">\n",
              "    <path d=\"M120-120v-720h720v720H120Zm60-500h600v-160H180v160Zm220 220h160v-160H400v160Zm0 220h160v-160H400v160ZM180-400h160v-160H180v160Zm440 0h160v-160H620v160ZM180-180h160v-160H180v160Zm440 0h160v-160H620v160Z\"/>\n",
              "  </svg>\n",
              "    </button>\n",
              "\n",
              "  <style>\n",
              "    .colab-df-container {\n",
              "      display:flex;\n",
              "      gap: 12px;\n",
              "    }\n",
              "\n",
              "    .colab-df-convert {\n",
              "      background-color: #E8F0FE;\n",
              "      border: none;\n",
              "      border-radius: 50%;\n",
              "      cursor: pointer;\n",
              "      display: none;\n",
              "      fill: #1967D2;\n",
              "      height: 32px;\n",
              "      padding: 0 0 0 0;\n",
              "      width: 32px;\n",
              "    }\n",
              "\n",
              "    .colab-df-convert:hover {\n",
              "      background-color: #E2EBFA;\n",
              "      box-shadow: 0px 1px 2px rgba(60, 64, 67, 0.3), 0px 1px 3px 1px rgba(60, 64, 67, 0.15);\n",
              "      fill: #174EA6;\n",
              "    }\n",
              "\n",
              "    .colab-df-buttons div {\n",
              "      margin-bottom: 4px;\n",
              "    }\n",
              "\n",
              "    [theme=dark] .colab-df-convert {\n",
              "      background-color: #3B4455;\n",
              "      fill: #D2E3FC;\n",
              "    }\n",
              "\n",
              "    [theme=dark] .colab-df-convert:hover {\n",
              "      background-color: #434B5C;\n",
              "      box-shadow: 0px 1px 3px 1px rgba(0, 0, 0, 0.15);\n",
              "      filter: drop-shadow(0px 1px 2px rgba(0, 0, 0, 0.3));\n",
              "      fill: #FFFFFF;\n",
              "    }\n",
              "  </style>\n",
              "\n",
              "    <script>\n",
              "      const buttonEl =\n",
              "        document.querySelector('#df-3e73aa01-0f68-4cf4-824b-2c1b61e0c439 button.colab-df-convert');\n",
              "      buttonEl.style.display =\n",
              "        google.colab.kernel.accessAllowed ? 'block' : 'none';\n",
              "\n",
              "      async function convertToInteractive(key) {\n",
              "        const element = document.querySelector('#df-3e73aa01-0f68-4cf4-824b-2c1b61e0c439');\n",
              "        const dataTable =\n",
              "          await google.colab.kernel.invokeFunction('convertToInteractive',\n",
              "                                                    [key], {});\n",
              "        if (!dataTable) return;\n",
              "\n",
              "        const docLinkHtml = 'Like what you see? Visit the ' +\n",
              "          '<a target=\"_blank\" href=https://colab.research.google.com/notebooks/data_table.ipynb>data table notebook</a>'\n",
              "          + ' to learn more about interactive tables.';\n",
              "        element.innerHTML = '';\n",
              "        dataTable['output_type'] = 'display_data';\n",
              "        await google.colab.output.renderOutput(dataTable, element);\n",
              "        const docLink = document.createElement('div');\n",
              "        docLink.innerHTML = docLinkHtml;\n",
              "        element.appendChild(docLink);\n",
              "      }\n",
              "    </script>\n",
              "  </div>\n",
              "\n",
              "\n",
              "<div id=\"df-357d0f35-7ab9-49dd-8986-85d027932d57\">\n",
              "  <button class=\"colab-df-quickchart\" onclick=\"quickchart('df-357d0f35-7ab9-49dd-8986-85d027932d57')\"\n",
              "            title=\"Suggest charts\"\n",
              "            style=\"display:none;\">\n",
              "\n",
              "<svg xmlns=\"http://www.w3.org/2000/svg\" height=\"24px\"viewBox=\"0 0 24 24\"\n",
              "     width=\"24px\">\n",
              "    <g>\n",
              "        <path d=\"M19 3H5c-1.1 0-2 .9-2 2v14c0 1.1.9 2 2 2h14c1.1 0 2-.9 2-2V5c0-1.1-.9-2-2-2zM9 17H7v-7h2v7zm4 0h-2V7h2v10zm4 0h-2v-4h2v4z\"/>\n",
              "    </g>\n",
              "</svg>\n",
              "  </button>\n",
              "\n",
              "<style>\n",
              "  .colab-df-quickchart {\n",
              "      --bg-color: #E8F0FE;\n",
              "      --fill-color: #1967D2;\n",
              "      --hover-bg-color: #E2EBFA;\n",
              "      --hover-fill-color: #174EA6;\n",
              "      --disabled-fill-color: #AAA;\n",
              "      --disabled-bg-color: #DDD;\n",
              "  }\n",
              "\n",
              "  [theme=dark] .colab-df-quickchart {\n",
              "      --bg-color: #3B4455;\n",
              "      --fill-color: #D2E3FC;\n",
              "      --hover-bg-color: #434B5C;\n",
              "      --hover-fill-color: #FFFFFF;\n",
              "      --disabled-bg-color: #3B4455;\n",
              "      --disabled-fill-color: #666;\n",
              "  }\n",
              "\n",
              "  .colab-df-quickchart {\n",
              "    background-color: var(--bg-color);\n",
              "    border: none;\n",
              "    border-radius: 50%;\n",
              "    cursor: pointer;\n",
              "    display: none;\n",
              "    fill: var(--fill-color);\n",
              "    height: 32px;\n",
              "    padding: 0;\n",
              "    width: 32px;\n",
              "  }\n",
              "\n",
              "  .colab-df-quickchart:hover {\n",
              "    background-color: var(--hover-bg-color);\n",
              "    box-shadow: 0 1px 2px rgba(60, 64, 67, 0.3), 0 1px 3px 1px rgba(60, 64, 67, 0.15);\n",
              "    fill: var(--button-hover-fill-color);\n",
              "  }\n",
              "\n",
              "  .colab-df-quickchart-complete:disabled,\n",
              "  .colab-df-quickchart-complete:disabled:hover {\n",
              "    background-color: var(--disabled-bg-color);\n",
              "    fill: var(--disabled-fill-color);\n",
              "    box-shadow: none;\n",
              "  }\n",
              "\n",
              "  .colab-df-spinner {\n",
              "    border: 2px solid var(--fill-color);\n",
              "    border-color: transparent;\n",
              "    border-bottom-color: var(--fill-color);\n",
              "    animation:\n",
              "      spin 1s steps(1) infinite;\n",
              "  }\n",
              "\n",
              "  @keyframes spin {\n",
              "    0% {\n",
              "      border-color: transparent;\n",
              "      border-bottom-color: var(--fill-color);\n",
              "      border-left-color: var(--fill-color);\n",
              "    }\n",
              "    20% {\n",
              "      border-color: transparent;\n",
              "      border-left-color: var(--fill-color);\n",
              "      border-top-color: var(--fill-color);\n",
              "    }\n",
              "    30% {\n",
              "      border-color: transparent;\n",
              "      border-left-color: var(--fill-color);\n",
              "      border-top-color: var(--fill-color);\n",
              "      border-right-color: var(--fill-color);\n",
              "    }\n",
              "    40% {\n",
              "      border-color: transparent;\n",
              "      border-right-color: var(--fill-color);\n",
              "      border-top-color: var(--fill-color);\n",
              "    }\n",
              "    60% {\n",
              "      border-color: transparent;\n",
              "      border-right-color: var(--fill-color);\n",
              "    }\n",
              "    80% {\n",
              "      border-color: transparent;\n",
              "      border-right-color: var(--fill-color);\n",
              "      border-bottom-color: var(--fill-color);\n",
              "    }\n",
              "    90% {\n",
              "      border-color: transparent;\n",
              "      border-bottom-color: var(--fill-color);\n",
              "    }\n",
              "  }\n",
              "</style>\n",
              "\n",
              "  <script>\n",
              "    async function quickchart(key) {\n",
              "      const quickchartButtonEl =\n",
              "        document.querySelector('#' + key + ' button');\n",
              "      quickchartButtonEl.disabled = true;  // To prevent multiple clicks.\n",
              "      quickchartButtonEl.classList.add('colab-df-spinner');\n",
              "      try {\n",
              "        const charts = await google.colab.kernel.invokeFunction(\n",
              "            'suggestCharts', [key], {});\n",
              "      } catch (error) {\n",
              "        console.error('Error during call to suggestCharts:', error);\n",
              "      }\n",
              "      quickchartButtonEl.classList.remove('colab-df-spinner');\n",
              "      quickchartButtonEl.classList.add('colab-df-quickchart-complete');\n",
              "    }\n",
              "    (() => {\n",
              "      let quickchartButtonEl =\n",
              "        document.querySelector('#df-357d0f35-7ab9-49dd-8986-85d027932d57 button');\n",
              "      quickchartButtonEl.style.display =\n",
              "        google.colab.kernel.accessAllowed ? 'block' : 'none';\n",
              "    })();\n",
              "  </script>\n",
              "</div>\n",
              "\n",
              "  <div id=\"id_34051a18-ca4d-415b-8bd8-1106f909fcc4\">\n",
              "    <style>\n",
              "      .colab-df-generate {\n",
              "        background-color: #E8F0FE;\n",
              "        border: none;\n",
              "        border-radius: 50%;\n",
              "        cursor: pointer;\n",
              "        display: none;\n",
              "        fill: #1967D2;\n",
              "        height: 32px;\n",
              "        padding: 0 0 0 0;\n",
              "        width: 32px;\n",
              "      }\n",
              "\n",
              "      .colab-df-generate:hover {\n",
              "        background-color: #E2EBFA;\n",
              "        box-shadow: 0px 1px 2px rgba(60, 64, 67, 0.3), 0px 1px 3px 1px rgba(60, 64, 67, 0.15);\n",
              "        fill: #174EA6;\n",
              "      }\n",
              "\n",
              "      [theme=dark] .colab-df-generate {\n",
              "        background-color: #3B4455;\n",
              "        fill: #D2E3FC;\n",
              "      }\n",
              "\n",
              "      [theme=dark] .colab-df-generate:hover {\n",
              "        background-color: #434B5C;\n",
              "        box-shadow: 0px 1px 3px 1px rgba(0, 0, 0, 0.15);\n",
              "        filter: drop-shadow(0px 1px 2px rgba(0, 0, 0, 0.3));\n",
              "        fill: #FFFFFF;\n",
              "      }\n",
              "    </style>\n",
              "    <button class=\"colab-df-generate\" onclick=\"generateWithVariable('x')\"\n",
              "            title=\"Generate code using this dataframe.\"\n",
              "            style=\"display:none;\">\n",
              "\n",
              "  <svg xmlns=\"http://www.w3.org/2000/svg\" height=\"24px\"viewBox=\"0 0 24 24\"\n",
              "       width=\"24px\">\n",
              "    <path d=\"M7,19H8.4L18.45,9,17,7.55,7,17.6ZM5,21V16.75L18.45,3.32a2,2,0,0,1,2.83,0l1.4,1.43a1.91,1.91,0,0,1,.58,1.4,1.91,1.91,0,0,1-.58,1.4L9.25,21ZM18.45,9,17,7.55Zm-12,3A5.31,5.31,0,0,0,4.9,8.1,5.31,5.31,0,0,0,1,6.5,5.31,5.31,0,0,0,4.9,4.9,5.31,5.31,0,0,0,6.5,1,5.31,5.31,0,0,0,8.1,4.9,5.31,5.31,0,0,0,12,6.5,5.46,5.46,0,0,0,6.5,12Z\"/>\n",
              "  </svg>\n",
              "    </button>\n",
              "    <script>\n",
              "      (() => {\n",
              "      const buttonEl =\n",
              "        document.querySelector('#id_34051a18-ca4d-415b-8bd8-1106f909fcc4 button.colab-df-generate');\n",
              "      buttonEl.style.display =\n",
              "        google.colab.kernel.accessAllowed ? 'block' : 'none';\n",
              "\n",
              "      buttonEl.onclick = () => {\n",
              "        google.colab.notebook.generateWithVariable('x');\n",
              "      }\n",
              "      })();\n",
              "    </script>\n",
              "  </div>\n",
              "\n",
              "    </div>\n",
              "  </div>\n"
            ],
            "application/vnd.google.colaboratory.intrinsic+json": {
              "type": "dataframe",
              "variable_name": "x",
              "summary": "{\n  \"name\": \"x\",\n  \"rows\": 836,\n  \"fields\": [\n    {\n      \"column\": \"Checking account\",\n      \"properties\": {\n        \"dtype\": \"number\",\n        \"std\": 1.2442113048813104,\n        \"min\": 0.0,\n        \"max\": 3.0,\n        \"samples\": [\n          2.0,\n          0.0,\n          3.0\n        ],\n        \"num_unique_values\": 4,\n        \"semantic_type\": \"\",\n        \"description\": \"\"\n      }\n    },\n    {\n      \"column\": \"Credit history\",\n      \"properties\": {\n        \"dtype\": \"number\",\n        \"std\": 11.466355878659217,\n        \"min\": 0.0,\n        \"max\": 41.0,\n        \"samples\": [\n          10.0,\n          15.0,\n          27.0\n        ],\n        \"num_unique_values\": 42,\n        \"semantic_type\": \"\",\n        \"description\": \"\"\n      }\n    },\n    {\n      \"column\": \"Purpose\",\n      \"properties\": {\n        \"dtype\": \"number\",\n        \"std\": 2.7566455400901853,\n        \"min\": 0.0,\n        \"max\": 9.0,\n        \"samples\": [\n          5.0,\n          4.0,\n          6.0\n        ],\n        \"num_unique_values\": 10,\n        \"semantic_type\": \"\",\n        \"description\": \"\"\n      }\n    },\n    {\n      \"column\": \"Saving accounts\",\n      \"properties\": {\n        \"dtype\": \"number\",\n        \"std\": 1.443998989998284,\n        \"min\": 0.0,\n        \"max\": 4.0,\n        \"samples\": [\n          0.0,\n          2.0,\n          1.0\n        ],\n        \"num_unique_values\": 5,\n        \"semantic_type\": \"\",\n        \"description\": \"\"\n      }\n    },\n    {\n      \"column\": \"Employment since\",\n      \"properties\": {\n        \"dtype\": \"number\",\n        \"std\": 14.423074551081667,\n        \"min\": 0.0,\n        \"max\": 50.0,\n        \"samples\": [\n          29.0,\n          11.0,\n          8.0\n        ],\n        \"num_unique_values\": 51,\n        \"semantic_type\": \"\",\n        \"description\": \"\"\n      }\n    },\n    {\n      \"column\": \"Sex\",\n      \"properties\": {\n        \"dtype\": \"number\",\n        \"std\": 0.6482617107050853,\n        \"min\": 0.0,\n        \"max\": 3.0,\n        \"samples\": [\n          2.0,\n          0.0,\n          3.0\n        ],\n        \"num_unique_values\": 4,\n        \"semantic_type\": \"\",\n        \"description\": \"\"\n      }\n    },\n    {\n      \"column\": \"Other debtors\",\n      \"properties\": {\n        \"dtype\": \"number\",\n        \"std\": 0.41509770595892787,\n        \"min\": 0.0,\n        \"max\": 2.0,\n        \"samples\": [\n          0.0,\n          1.0,\n          2.0\n        ],\n        \"num_unique_values\": 3,\n        \"semantic_type\": \"\",\n        \"description\": \"\"\n      }\n    },\n    {\n      \"column\": \"Property\",\n      \"properties\": {\n        \"dtype\": \"number\",\n        \"std\": 15.81735638921907,\n        \"min\": 0.0,\n        \"max\": 44.0,\n        \"samples\": [\n          28.0,\n          21.0,\n          24.0\n        ],\n        \"num_unique_values\": 45,\n        \"semantic_type\": \"\",\n        \"description\": \"\"\n      }\n    },\n    {\n      \"column\": \"Other installment plans\",\n      \"properties\": {\n        \"dtype\": \"number\",\n        \"std\": 0.6288027879749628,\n        \"min\": 0.0,\n        \"max\": 2.0,\n        \"samples\": [\n          2.0,\n          0.0,\n          1.0\n        ],\n        \"num_unique_values\": 3,\n        \"semantic_type\": \"\",\n        \"description\": \"\"\n      }\n    },\n    {\n      \"column\": \"Housing\",\n      \"properties\": {\n        \"dtype\": \"number\",\n        \"std\": 0.5388749513750792,\n        \"min\": 0.0,\n        \"max\": 2.0,\n        \"samples\": [\n          1.0,\n          0.0,\n          2.0\n        ],\n        \"num_unique_values\": 3,\n        \"semantic_type\": \"\",\n        \"description\": \"\"\n      }\n    },\n    {\n      \"column\": \"Job\",\n      \"properties\": {\n        \"dtype\": \"number\",\n        \"std\": 18.601127761153716,\n        \"min\": 0.0,\n        \"max\": 71.0,\n        \"samples\": [\n          33.0,\n          14.0,\n          60.0\n        ],\n        \"num_unique_values\": 72,\n        \"semantic_type\": \"\",\n        \"description\": \"\"\n      }\n    },\n    {\n      \"column\": \"Telephone\",\n      \"properties\": {\n        \"dtype\": \"number\",\n        \"std\": 0.49151176792617407,\n        \"min\": 0.0,\n        \"max\": 1.0,\n        \"samples\": [\n          1.0,\n          0.0\n        ],\n        \"num_unique_values\": 2,\n        \"semantic_type\": \"\",\n        \"description\": \"\"\n      }\n    },\n    {\n      \"column\": \"Foreign worker\",\n      \"properties\": {\n        \"dtype\": \"number\",\n        \"std\": 1.1879524932690777,\n        \"min\": 0.0,\n        \"max\": 7.0,\n        \"samples\": [\n          0.0,\n          6.0\n        ],\n        \"num_unique_values\": 8,\n        \"semantic_type\": \"\",\n        \"description\": \"\"\n      }\n    },\n    {\n      \"column\": \"Duration\",\n      \"properties\": {\n        \"dtype\": \"number\",\n        \"std\": 0.2214262458055249,\n        \"min\": 0.0,\n        \"max\": 1.0,\n        \"samples\": [\n          0.8928571428571429,\n          0.39285714285714285\n        ],\n        \"num_unique_values\": 29,\n        \"semantic_type\": \"\",\n        \"description\": \"\"\n      }\n    },\n    {\n      \"column\": \"Credit amount\",\n      \"properties\": {\n        \"dtype\": \"number\",\n        \"std\": 0.1808248302656613,\n        \"min\": 0.0,\n        \"max\": 1.0,\n        \"samples\": [\n          0.30802244965335096,\n          0.13271706833938596\n        ],\n        \"num_unique_values\": 578,\n        \"semantic_type\": \"\",\n        \"description\": \"\"\n      }\n    },\n    {\n      \"column\": \"Installment rate\",\n      \"properties\": {\n        \"dtype\": \"number\",\n        \"std\": 0.35578859791654877,\n        \"min\": 0.0,\n        \"max\": 1.0,\n        \"samples\": [\n          0.1426652669302723,\n          0.5262882985025196\n        ],\n        \"num_unique_values\": 132,\n        \"semantic_type\": \"\",\n        \"description\": \"\"\n      }\n    },\n    {\n      \"column\": \"Present residence since\",\n      \"properties\": {\n        \"dtype\": \"number\",\n        \"std\": 0.3575178361173625,\n        \"min\": 0.0,\n        \"max\": 1.0,\n        \"samples\": [\n          0.6666666666666667,\n          0.3333333333333333\n        ],\n        \"num_unique_values\": 4,\n        \"semantic_type\": \"\",\n        \"description\": \"\"\n      }\n    },\n    {\n      \"column\": \"Age\",\n      \"properties\": {\n        \"dtype\": \"number\",\n        \"std\": 0.18983582313539013,\n        \"min\": 0.0,\n        \"max\": 1.0,\n        \"samples\": [\n          0.10714285714285715,\n          0.29894973890960735\n        ],\n        \"num_unique_values\": 276,\n        \"semantic_type\": \"\",\n        \"description\": \"\"\n      }\n    },\n    {\n      \"column\": \"Existing credits\",\n      \"properties\": {\n        \"dtype\": \"number\",\n        \"std\": 0.1842720016535947,\n        \"min\": 0.0,\n        \"max\": 1.0,\n        \"samples\": [\n          0.0,\n          0.6666666666666667\n        ],\n        \"num_unique_values\": 4,\n        \"semantic_type\": \"\",\n        \"description\": \"\"\n      }\n    },\n    {\n      \"column\": \"Number of liable people\",\n      \"properties\": {\n        \"dtype\": \"number\",\n        \"std\": 0.30240088295975776,\n        \"min\": 0.0,\n        \"max\": 1.0,\n        \"samples\": [\n          1.0,\n          0.0\n        ],\n        \"num_unique_values\": 2,\n        \"semantic_type\": \"\",\n        \"description\": \"\"\n      }\n    }\n  ]\n}"
            }
          },
          "metadata": {},
          "execution_count": 79
        }
      ]
    },
    {
      "cell_type": "markdown",
      "source": [
        "Splitting datatset into 2 sets: one for training(60%) and other(40%) for testing+validation"
      ],
      "metadata": {
        "id": "jRt9Cr9lCy7b"
      }
    },
    {
      "cell_type": "code",
      "source": [
        "from sklearn.model_selection import train_test_split\n",
        "X_train, X_test_val, y_train, y_test_val = train_test_split(x,y, test_size=0.4, random_state=42)"
      ],
      "metadata": {
        "id": "GSA2ADmgKypZ"
      },
      "execution_count": 80,
      "outputs": []
    },
    {
      "cell_type": "markdown",
      "source": [
        "Splitting validation+Testing into separate sets"
      ],
      "metadata": {
        "id": "Tey5kelODoe6"
      }
    },
    {
      "cell_type": "code",
      "source": [
        "X_test, X_val, y_test, y_val = train_test_split(X_test_val,y_test_val, test_size=0.5, random_state=42)"
      ],
      "metadata": {
        "id": "4zAvb4rXK2ql"
      },
      "execution_count": 81,
      "outputs": []
    },
    {
      "cell_type": "markdown",
      "source": [
        "Checking the shape of train,test and validate datasets"
      ],
      "metadata": {
        "id": "Uz_r09XGDycp"
      }
    },
    {
      "cell_type": "code",
      "source": [
        "print(X_train.shape)\n",
        "print(X_test.shape)\n",
        "print(X_val.shape)\n",
        "print(y_train.shape)\n",
        "print(y_test.shape)\n",
        "print(y_val.shape)\n"
      ],
      "metadata": {
        "colab": {
          "base_uri": "https://localhost:8080/"
        },
        "id": "LK-IJdVkK74b",
        "outputId": "d0c0f9de-1ecd-424f-81e9-642b2d81720f"
      },
      "execution_count": 82,
      "outputs": [
        {
          "output_type": "stream",
          "name": "stdout",
          "text": [
            "(501, 20)\n",
            "(167, 20)\n",
            "(168, 20)\n",
            "(501, 1)\n",
            "(167, 1)\n",
            "(168, 1)\n"
          ]
        }
      ]
    },
    {
      "cell_type": "markdown",
      "source": [
        "Calculating how many null values are present in each column"
      ],
      "metadata": {
        "id": "JJYYGO2NDTu3"
      }
    },
    {
      "cell_type": "code",
      "source": [
        "print (X_train.isnull().sum())"
      ],
      "metadata": {
        "colab": {
          "base_uri": "https://localhost:8080/"
        },
        "id": "AkE8VKYxLADY",
        "outputId": "804cd0ac-2ff4-404d-c258-155858e6a3e5"
      },
      "execution_count": 83,
      "outputs": [
        {
          "output_type": "stream",
          "name": "stdout",
          "text": [
            "Checking account           0\n",
            "Credit history             0\n",
            "Purpose                    0\n",
            "Saving accounts            0\n",
            "Employment since           0\n",
            "Sex                        0\n",
            "Other debtors              0\n",
            "Property                   0\n",
            "Other installment plans    0\n",
            "Housing                    0\n",
            "Job                        0\n",
            "Telephone                  0\n",
            "Foreign worker             0\n",
            "Duration                   0\n",
            "Credit amount              0\n",
            "Installment rate           0\n",
            "Present residence since    0\n",
            "Age                        0\n",
            "Existing credits           0\n",
            "Number of liable people    0\n",
            "dtype: int64\n"
          ]
        }
      ]
    },
    {
      "cell_type": "markdown",
      "source": [
        "##**R2**"
      ],
      "metadata": {
        "id": "4Z1C7wvTD3Jf"
      }
    },
    {
      "cell_type": "markdown",
      "source": [
        "Generating a linear perceptron model and deploying it on Test partition"
      ],
      "metadata": {
        "id": "jfo50T67EBWn"
      }
    },
    {
      "cell_type": "code",
      "source": [
        "from sklearn.linear_model import Perceptron\n",
        "p = Perceptron(random_state=42)\n",
        "p.fit(X_train, y_train)"
      ],
      "metadata": {
        "id": "7DWyOXAgNs-A",
        "colab": {
          "base_uri": "https://localhost:8080/",
          "height": 74
        },
        "outputId": "9aa8812d-0d01-49c8-ac67-978eaad4c75c"
      },
      "execution_count": 84,
      "outputs": [
        {
          "output_type": "execute_result",
          "data": {
            "text/plain": [
              "Perceptron(random_state=42)"
            ],
            "text/html": [
              "<style>#sk-container-id-2 {color: black;background-color: white;}#sk-container-id-2 pre{padding: 0;}#sk-container-id-2 div.sk-toggleable {background-color: white;}#sk-container-id-2 label.sk-toggleable__label {cursor: pointer;display: block;width: 100%;margin-bottom: 0;padding: 0.3em;box-sizing: border-box;text-align: center;}#sk-container-id-2 label.sk-toggleable__label-arrow:before {content: \"▸\";float: left;margin-right: 0.25em;color: #696969;}#sk-container-id-2 label.sk-toggleable__label-arrow:hover:before {color: black;}#sk-container-id-2 div.sk-estimator:hover label.sk-toggleable__label-arrow:before {color: black;}#sk-container-id-2 div.sk-toggleable__content {max-height: 0;max-width: 0;overflow: hidden;text-align: left;background-color: #f0f8ff;}#sk-container-id-2 div.sk-toggleable__content pre {margin: 0.2em;color: black;border-radius: 0.25em;background-color: #f0f8ff;}#sk-container-id-2 input.sk-toggleable__control:checked~div.sk-toggleable__content {max-height: 200px;max-width: 100%;overflow: auto;}#sk-container-id-2 input.sk-toggleable__control:checked~label.sk-toggleable__label-arrow:before {content: \"▾\";}#sk-container-id-2 div.sk-estimator input.sk-toggleable__control:checked~label.sk-toggleable__label {background-color: #d4ebff;}#sk-container-id-2 div.sk-label input.sk-toggleable__control:checked~label.sk-toggleable__label {background-color: #d4ebff;}#sk-container-id-2 input.sk-hidden--visually {border: 0;clip: rect(1px 1px 1px 1px);clip: rect(1px, 1px, 1px, 1px);height: 1px;margin: -1px;overflow: hidden;padding: 0;position: absolute;width: 1px;}#sk-container-id-2 div.sk-estimator {font-family: monospace;background-color: #f0f8ff;border: 1px dotted black;border-radius: 0.25em;box-sizing: border-box;margin-bottom: 0.5em;}#sk-container-id-2 div.sk-estimator:hover {background-color: #d4ebff;}#sk-container-id-2 div.sk-parallel-item::after {content: \"\";width: 100%;border-bottom: 1px solid gray;flex-grow: 1;}#sk-container-id-2 div.sk-label:hover label.sk-toggleable__label {background-color: #d4ebff;}#sk-container-id-2 div.sk-serial::before {content: \"\";position: absolute;border-left: 1px solid gray;box-sizing: border-box;top: 0;bottom: 0;left: 50%;z-index: 0;}#sk-container-id-2 div.sk-serial {display: flex;flex-direction: column;align-items: center;background-color: white;padding-right: 0.2em;padding-left: 0.2em;position: relative;}#sk-container-id-2 div.sk-item {position: relative;z-index: 1;}#sk-container-id-2 div.sk-parallel {display: flex;align-items: stretch;justify-content: center;background-color: white;position: relative;}#sk-container-id-2 div.sk-item::before, #sk-container-id-2 div.sk-parallel-item::before {content: \"\";position: absolute;border-left: 1px solid gray;box-sizing: border-box;top: 0;bottom: 0;left: 50%;z-index: -1;}#sk-container-id-2 div.sk-parallel-item {display: flex;flex-direction: column;z-index: 1;position: relative;background-color: white;}#sk-container-id-2 div.sk-parallel-item:first-child::after {align-self: flex-end;width: 50%;}#sk-container-id-2 div.sk-parallel-item:last-child::after {align-self: flex-start;width: 50%;}#sk-container-id-2 div.sk-parallel-item:only-child::after {width: 0;}#sk-container-id-2 div.sk-dashed-wrapped {border: 1px dashed gray;margin: 0 0.4em 0.5em 0.4em;box-sizing: border-box;padding-bottom: 0.4em;background-color: white;}#sk-container-id-2 div.sk-label label {font-family: monospace;font-weight: bold;display: inline-block;line-height: 1.2em;}#sk-container-id-2 div.sk-label-container {text-align: center;}#sk-container-id-2 div.sk-container {/* jupyter's `normalize.less` sets `[hidden] { display: none; }` but bootstrap.min.css set `[hidden] { display: none !important; }` so we also need the `!important` here to be able to override the default hidden behavior on the sphinx rendered scikit-learn.org. See: https://github.com/scikit-learn/scikit-learn/issues/21755 */display: inline-block !important;position: relative;}#sk-container-id-2 div.sk-text-repr-fallback {display: none;}</style><div id=\"sk-container-id-2\" class=\"sk-top-container\"><div class=\"sk-text-repr-fallback\"><pre>Perceptron(random_state=42)</pre><b>In a Jupyter environment, please rerun this cell to show the HTML representation or trust the notebook. <br />On GitHub, the HTML representation is unable to render, please try loading this page with nbviewer.org.</b></div><div class=\"sk-container\" hidden><div class=\"sk-item\"><div class=\"sk-estimator sk-toggleable\"><input class=\"sk-toggleable__control sk-hidden--visually\" id=\"sk-estimator-id-2\" type=\"checkbox\" checked><label for=\"sk-estimator-id-2\" class=\"sk-toggleable__label sk-toggleable__label-arrow\">Perceptron</label><div class=\"sk-toggleable__content\"><pre>Perceptron(random_state=42)</pre></div></div></div></div></div>"
            ]
          },
          "metadata": {},
          "execution_count": 84
        }
      ]
    },
    {
      "cell_type": "markdown",
      "source": [
        "Displaying F measure values for each class"
      ],
      "metadata": {
        "id": "Ag0QWlHFD_wa"
      }
    },
    {
      "cell_type": "code",
      "source": [
        "from sklearn.metrics import accuracy_score\n",
        "\n",
        "y_pred = p.predict(X_train)\n",
        "from sklearn.metrics import f1_score\n",
        "f1 = f1_score(y_train, y_pred,average=None)\n",
        "print(f1)"
      ],
      "metadata": {
        "colab": {
          "base_uri": "https://localhost:8080/"
        },
        "id": "b_G86f-EYdNR",
        "outputId": "ff014b24-2ff1-4493-d72a-ec1553b08a9d"
      },
      "execution_count": 85,
      "outputs": [
        {
          "output_type": "stream",
          "name": "stdout",
          "text": [
            "[0.64900662 0.71038251]\n"
          ]
        }
      ]
    },
    {
      "cell_type": "markdown",
      "source": [
        "##**R3**"
      ],
      "metadata": {
        "id": "l3LTfeI2FIDy"
      }
    },
    {
      "cell_type": "markdown",
      "source": [
        "Checking count of each class in the dataset"
      ],
      "metadata": {
        "id": "5SV7KEKcFRHY"
      }
    },
    {
      "cell_type": "code",
      "source": [
        "from collections import Counter\n",
        "Counter(y_train['class'].values)"
      ],
      "metadata": {
        "colab": {
          "base_uri": "https://localhost:8080/"
        },
        "id": "uQwHH1yFYnV1",
        "outputId": "6aeb7105-7397-4eb1-f107-373810accc33"
      },
      "execution_count": 86,
      "outputs": [
        {
          "output_type": "execute_result",
          "data": {
            "text/plain": [
              "Counter({0: 244, 1: 257})"
            ]
          },
          "metadata": {},
          "execution_count": 86
        }
      ]
    },
    {
      "cell_type": "markdown",
      "source": [
        "Applying SMOTENC on the above unbalanced dataset"
      ],
      "metadata": {
        "id": "UR8HXHgyFVrW"
      }
    },
    {
      "cell_type": "code",
      "source": [
        "from imblearn.over_sampling import SMOTENC\n",
        "from sklearn.datasets import make_classification\n",
        "\n",
        "categorical_features=[0,2,3,5,6,8,9,11,13,14,16,18,19]\n",
        "smotenc = SMOTENC(categorical_features=categorical_features, random_state=42,sampling_strategy=1.0, k_neighbors=5)\n",
        "X_resampled, y_resampled = smotenc.fit_resample(X_train, y_train)\n",
        "Counter(y_resampled['class'].values)\n"
      ],
      "metadata": {
        "colab": {
          "base_uri": "https://localhost:8080/"
        },
        "id": "mrhqF-CVZHLb",
        "outputId": "3e95c345-b086-4c3b-d515-abaa520f66ae"
      },
      "execution_count": 87,
      "outputs": [
        {
          "output_type": "execute_result",
          "data": {
            "text/plain": [
              "Counter({0: 257, 1: 257})"
            ]
          },
          "metadata": {},
          "execution_count": 87
        }
      ]
    },
    {
      "cell_type": "markdown",
      "source": [
        "Generating perceptron on the above oversampled training dataset"
      ],
      "metadata": {
        "id": "MyIo_79MFbWg"
      }
    },
    {
      "cell_type": "code",
      "source": [
        "q = Perceptron(random_state=42)\n",
        "q.fit(X_resampled, y_resampled)\n",
        "y_pred = q.predict(X_resampled)"
      ],
      "metadata": {
        "id": "ap73uZi5aF5S"
      },
      "execution_count": 88,
      "outputs": []
    },
    {
      "cell_type": "markdown",
      "source": [
        "Getting F measure for each of the classes"
      ],
      "metadata": {
        "id": "A63AWsGAFfzG"
      }
    },
    {
      "cell_type": "code",
      "source": [
        "from sklearn.metrics import f1_score\n",
        "f1 = f1_score(y_resampled, y_pred,average=None)\n",
        "print(f1)"
      ],
      "metadata": {
        "colab": {
          "base_uri": "https://localhost:8080/"
        },
        "id": "zCQOWWisaP7C",
        "outputId": "f12dda23-da7b-4212-add9-f0e2cdab8b91"
      },
      "execution_count": 89,
      "outputs": [
        {
          "output_type": "stream",
          "name": "stdout",
          "text": [
            "[0.40816327 0.70364964]\n"
          ]
        }
      ]
    },
    {
      "cell_type": "markdown",
      "source": [
        "##**R4**"
      ],
      "metadata": {
        "id": "eJZqvZzIFlMk"
      }
    },
    {
      "cell_type": "markdown",
      "source": [
        "Initially there was an evident difference in the F values of minority class and majority class. Since the dataset was unbalanced, majority class's F value was high than the minority class. So the model was more biased towards the majority class giving a high F value. Later on, after oversampling the dataset using SMOTENC the F values of both the classes were comparatively same differing a bit. The model is now able to predict both the classes with approx same efficiency since the dataset is balanced now.\n",
        "\n",
        "This results in a more equitable performance between the majority and minority classes, reducing bias towards the majority class and creating a more balanced and robust model."
      ],
      "metadata": {
        "id": "lA4iIgNtFonf"
      }
    },
    {
      "cell_type": "markdown",
      "source": [
        "##**R5**"
      ],
      "metadata": {
        "id": "HG93cHPCF39c"
      }
    },
    {
      "cell_type": "markdown",
      "source": [
        "In order to determine which features are least significant we need to observe the coefficients (weights) assigned to each feature from the trained perceptron model. The two features with the smallest absolute coefficients are likely to be the least significant predictors.\n",
        "The two least significant predictors have the lowest absolute coefficients, suggesting weaker correlations with the target variable and less impact on the model's predictions. It might be possibly because of their weaker correlations or overlap with other features."
      ],
      "metadata": {
        "id": "WuFjaRlhF8vH"
      }
    },
    {
      "cell_type": "code",
      "source": [
        "print(\"Coefficients are\" ,q.coef_)"
      ],
      "metadata": {
        "colab": {
          "base_uri": "https://localhost:8080/"
        },
        "id": "SjkBQneWk-PH",
        "outputId": "d68ccf5e-daa7-4b38-c263-a30b44ad280e"
      },
      "execution_count": 90,
      "outputs": [
        {
          "output_type": "stream",
          "name": "stdout",
          "text": [
            "Coefficients are [[-4.74000000e+02 -6.33131625e+01  1.80000000e+01 -3.14000000e+02\n",
            "   2.78809536e-01  7.50000000e+01 -8.00000000e+01  5.10000000e+01\n",
            "   2.24000000e+02  1.06000000e+02  7.10000000e+01 -1.10000000e+02\n",
            "  -1.19107983e+02  8.35535714e+01  4.38628260e+01  1.37758164e+02\n",
            "   3.83333333e+01 -3.90858308e+01 -3.73333333e+01 -2.10000000e+01]]\n"
          ]
        }
      ]
    },
    {
      "cell_type": "markdown",
      "source": [
        "Finding least significant predictors"
      ],
      "metadata": {
        "id": "N50mFIftGQnD"
      }
    },
    {
      "cell_type": "code",
      "source": [
        "import numpy as np\n",
        "coefficients = q.coef_[0]\n",
        "feature_names = np.array(X_train.columns)\n",
        "\n",
        "# Identify the two least significant predictors\n",
        "least_significant_indices = np.argsort(np.abs(coefficients))[:2]\n",
        "least_significant_features = feature_names[least_significant_indices]\n",
        "print(least_significant_features)\n",
        "print(least_significant_indices)"
      ],
      "metadata": {
        "colab": {
          "base_uri": "https://localhost:8080/"
        },
        "id": "ZaTlAQUgaTFR",
        "outputId": "5b3e3b54-9b6f-4fe0-dec8-eb1a6d8f83d6"
      },
      "execution_count": 91,
      "outputs": [
        {
          "output_type": "stream",
          "name": "stdout",
          "text": [
            "['Employment since' 'Purpose']\n",
            "[4 2]\n"
          ]
        }
      ]
    },
    {
      "cell_type": "markdown",
      "source": [
        "Least significant predictors are 'Employment since' AND 'Purpose' columns"
      ],
      "metadata": {
        "id": "4H0Wk19xGfFw"
      }
    },
    {
      "cell_type": "markdown",
      "source": [
        "Dropping the least significant features and regenerating the linear perceptron model to display the F values on the two classes.\n"
      ],
      "metadata": {
        "id": "1OMKPXGjGtA_"
      }
    },
    {
      "cell_type": "code",
      "source": [
        "# Assuming X_resampled is a pandas DataFrame\n",
        "X_new = X_resampled.drop(X_resampled.columns[[2, 4]], axis=1)\n",
        "\n",
        "model_reduced = Perceptron(random_state=42)\n",
        "model_reduced.fit(X_new, y_resampled)\n",
        "\n",
        "y_pred = model_reduced.predict(X_new)\n",
        "from sklearn.metrics import f1_score\n",
        "f1 = f1_score(y_resampled, y_pred,average=None)\n",
        "print(f1)\n"
      ],
      "metadata": {
        "id": "UJfo3zxxfANF",
        "colab": {
          "base_uri": "https://localhost:8080/"
        },
        "outputId": "281a32af-bc81-4182-97e2-18e5956a94f1"
      },
      "execution_count": 92,
      "outputs": [
        {
          "output_type": "stream",
          "name": "stdout",
          "text": [
            "[0.71705426 0.71484375]\n"
          ]
        }
      ]
    },
    {
      "cell_type": "markdown",
      "source": [
        "Confusion matrix for the results"
      ],
      "metadata": {
        "id": "U0LRhCV1Gx0X"
      }
    },
    {
      "cell_type": "code",
      "source": [
        "from sklearn.metrics import confusion_matrix\n",
        "import seaborn as sns\n",
        "import matplotlib.pyplot as plt\n",
        "cm = confusion_matrix(y_resampled, y_pred)\n",
        "print(cm)\n",
        "plt.figure(figsize=(8, 6))\n",
        "sns.heatmap(cm, annot=True, fmt='d',cmap='Blues', annot_kws={\"size\": 16},xticklabels=[\"No Risk\",'Risk'], yticklabels=['No Risk','Risk'])\n",
        "plt.xlabel('Predicted labels', fontsize=14)\n",
        "plt.ylabel('True labels', fontsize=14)\n",
        "plt.title('Confusion Matrix', fontsize=16)\n",
        "plt.show()"
      ],
      "metadata": {
        "colab": {
          "base_uri": "https://localhost:8080/",
          "height": 606
        },
        "id": "s1Syfa_MlcHu",
        "outputId": "99803609-80cf-4dbc-e857-67c770e7f0b4"
      },
      "execution_count": 93,
      "outputs": [
        {
          "output_type": "stream",
          "name": "stdout",
          "text": [
            "[[185  72]\n",
            " [ 74 183]]\n"
          ]
        },
        {
          "output_type": "display_data",
          "data": {
            "text/plain": [
              "<Figure size 800x600 with 2 Axes>"
            ],
            "image/png": "[encoded data removed]"
          },
          "metadata": {}
        }
      ]
    },
    {
      "cell_type": "markdown",
      "source": [
        "##**R6**"
      ],
      "metadata": {
        "id": "dWZHDgrNG3zA"
      }
    },
    {
      "cell_type": "markdown",
      "source": [
        " Identifying the two most significant predictors, we observe the coefficients (weights) assigned to each feature from the trained perceptron model. The two features with the highest absolute coefficients are likely to be the most significant predictors.\n",
        "The two most significant predictors have the largest absolute coefficients, suggesting stronger correlations with the target variable and more impact on the model's predictions.\n"
      ],
      "metadata": {
        "id": "cW4x7Wu0G650"
      }
    },
    {
      "cell_type": "code",
      "source": [
        "print(\"Model coeff \",model_reduced.coef_)"
      ],
      "metadata": {
        "colab": {
          "base_uri": "https://localhost:8080/"
        },
        "id": "HNGYLgGsvaXP",
        "outputId": "95c8b067-7a04-4fb7-e798-d142524b5ef4"
      },
      "execution_count": 94,
      "outputs": [
        {
          "output_type": "stream",
          "name": "stdout",
          "text": [
            "Model coeff  [[-419.          -42.78789752 -280.           32.          -70.\n",
            "   -10.          203.           93.           34.         -117.\n",
            "  -115.10798281   79.05357143   46.44404094  112.14173495   20.33333333\n",
            "   -42.38120427  -35.          -29.        ]]\n"
          ]
        }
      ]
    },
    {
      "cell_type": "code",
      "source": [
        "coefficients = model_reduced.coef_[0]\n",
        "feature_names = np.array(X_new.columns)\n",
        "\n",
        "# Identify the two least significant predictors\n",
        "most_significant_indices = np.argsort(np.abs(coefficients))[::-1][:2]\n",
        "most_significant_features = feature_names[most_significant_indices]\n",
        "\n",
        "# Print the two most significant features\n",
        "print(\"The two most significant predictors are:\", most_significant_features)\n",
        "print(most_significant_indices)"
      ],
      "metadata": {
        "colab": {
          "base_uri": "https://localhost:8080/"
        },
        "id": "kbFA6OM3wVpT",
        "outputId": "8e37270b-0a34-429f-f219-b9395db4c7e0"
      },
      "execution_count": 104,
      "outputs": [
        {
          "output_type": "stream",
          "name": "stdout",
          "text": [
            "The two most significant predictors are: ['Checking account' 'Saving accounts']\n",
            "[0 2]\n"
          ]
        }
      ]
    },
    {
      "cell_type": "markdown",
      "source": [
        "The two most significant predictors are 'Checking account' and 'Saving accounts'"
      ],
      "metadata": {
        "id": "SgwGjM2DHFxn"
      }
    },
    {
      "cell_type": "markdown",
      "source": [
        "##**R7**"
      ],
      "metadata": {
        "id": "VM1NvjI3HRNI"
      }
    },
    {
      "cell_type": "code",
      "source": [
        "import warnings\n",
        "warnings.filterwarnings(\"ignore\")"
      ],
      "metadata": {
        "id": "EL90Vjn6wi2-"
      },
      "execution_count": 105,
      "outputs": []
    },
    {
      "cell_type": "markdown",
      "source": [
        "Finding the optimal combination of oversampling ratio (or) and n values"
      ],
      "metadata": {
        "id": "o18PIEumIBOL"
      }
    },
    {
      "cell_type": "code",
      "source": [
        "from imblearn.over_sampling import SMOTE\n",
        "from sklearn.linear_model import Perceptron\n",
        "from sklearn.metrics import f1_score\n",
        "\n",
        "# Define the parameter grid for grid search\n",
        "param_grid = {\n",
        "    'sampling_strategy': [0.1,0.2,0.3,0.4,0.5,0.6,0.7,0.8,0.9,1.0],\n",
        "    'k_neighbors': list(range(1, 21))\n",
        "}\n",
        "\n",
        "# Initialize lists to store results\n",
        "f1_scores = []\n",
        "smote_params_list = []\n",
        "\n",
        "# Loop through each combination of SMOTE parameters\n",
        "for sampling_strategy in param_grid['sampling_strategy']:\n",
        "    for k_neighbors in param_grid['k_neighbors']:\n",
        "        # Create SMOTE resampler\n",
        "        categorical_features=[0,2,3,5,6,8,9,11,13,14,16,18,19]\n",
        "        smotenc = SMOTENC(categorical_features=categorical_features, random_state=42, sampling_strategy=sampling_strategy, k_neighbors=k_neighbors)\n",
        "\n",
        "        # Resample the training set\n",
        "        X_train_resampled, y_train_resampled = smotenc.fit_resample(X_train, y_train)\n",
        "\n",
        "        # Initialize and train Perceptron model\n",
        "        perceptron = Perceptron()\n",
        "        perceptron.fit(X_train_resampled, y_train_resampled)\n",
        "\n",
        "        # Predict on the validation set\n",
        "        y_pred_val = perceptron.predict(X_val)\n",
        "\n",
        "        # Calculate F1 score on the validation set\n",
        "        f1 = f1_score(y_val, y_pred_val, average='macro')\n",
        "\n",
        "        # Store the F1 score and corresponding SMOTE parameters\n",
        "        f1_scores.append(f1)\n",
        "        smote_params_list.append({'sampling_strategy': sampling_strategy, 'k_neighbors': k_neighbors})\n",
        "\n",
        "# Find the index of the best F1 score\n",
        "best_f1_index = np.argmax(f1_scores)\n",
        "best_f1_score = f1_scores[best_f1_index]\n",
        "best_smote_params = smote_params_list[best_f1_index]\n",
        "\n",
        "print(\"Best F1 score on validation set:\", best_f1_score)\n",
        "print(\"Corresponding SMOTE parameters:\", best_smote_params)\n"
      ],
      "metadata": {
        "colab": {
          "base_uri": "https://localhost:8080/"
        },
        "id": "qzNRzf2Pw5vD",
        "outputId": "bbbedb14-de18-4cd4-c599-a464eda1253e"
      },
      "execution_count": 114,
      "outputs": [
        {
          "output_type": "stream",
          "name": "stdout",
          "text": [
            "Best F1 score on validation set: 0.7017283234899815\n",
            "Corresponding SMOTE parameters: {'sampling_strategy': 1.0, 'k_neighbors': 6}\n"
          ]
        }
      ]
    },
    {
      "cell_type": "code",
      "source": [
        "from imblearn.over_sampling import SMOTENC\n",
        "from sklearn.datasets import make_classification\n",
        "\n",
        "categorical_features=[0,2,3,5,6,8,9,11,13,14,16,18,19]\n",
        "smotenc = SMOTENC(categorical_features=categorical_features, random_state=42,sampling_strategy=1.0, k_neighbors=6)\n",
        "X_resampled, y_resampled = smotenc.fit_resample(X_train, y_train)\n",
        "Counter(y_resampled['class'].values)\n"
      ],
      "metadata": {
        "colab": {
          "base_uri": "https://localhost:8080/"
        },
        "id": "WX0SsgAFxA96",
        "outputId": "78701316-188c-4aae-9bd5-bbe2f55e4c62"
      },
      "execution_count": 115,
      "outputs": [
        {
          "output_type": "execute_result",
          "data": {
            "text/plain": [
              "Counter({0: 257, 1: 257})"
            ]
          },
          "metadata": {},
          "execution_count": 115
        }
      ]
    },
    {
      "cell_type": "markdown",
      "source": [
        "Again retraining the model"
      ],
      "metadata": {
        "id": "wT0xLOEsHeN7"
      }
    },
    {
      "cell_type": "code",
      "source": [
        "X_train_new = X_resampled.drop(X_resampled.columns[[2, 4]], axis=1)\n",
        "q = Perceptron(random_state=42)\n",
        "q.fit(X_train_new, y_train_resampled)\n",
        "y_train_pred = q.predict(X_train_new)\n",
        "f1 = f1_score(y_train_resampled, y_train_pred,average=None)\n",
        "print(f1)"
      ],
      "metadata": {
        "colab": {
          "base_uri": "https://localhost:8080/"
        },
        "id": "shcI6ixJxVti",
        "outputId": "23e294c4-4240-403e-a79e-780b4669f652"
      },
      "execution_count": 117,
      "outputs": [
        {
          "output_type": "stream",
          "name": "stdout",
          "text": [
            "[0.76512456 0.7167382 ]\n"
          ]
        }
      ]
    },
    {
      "cell_type": "markdown",
      "source": [
        "  Testing on validation dataset"
      ],
      "metadata": {
        "id": "kLN_yQmBHijp"
      }
    },
    {
      "cell_type": "code",
      "source": [
        "X_val_new = X_val.drop(X_val.columns[[2, 4]], axis=1)\n",
        "y_val_pred = q.predict(X_val_new)\n",
        "from sklearn.metrics import f1_score\n",
        "f1 = f1_score(y_val, y_val_pred, average=None)\n",
        "print(f1)"
      ],
      "metadata": {
        "colab": {
          "base_uri": "https://localhost:8080/"
        },
        "id": "mpsM1Advxih2",
        "outputId": "839c4c62-e7d5-485a-c7d9-ddae1fe3f952"
      },
      "execution_count": 119,
      "outputs": [
        {
          "output_type": "stream",
          "name": "stdout",
          "text": [
            "[0.73195876 0.63380282]\n"
          ]
        }
      ]
    },
    {
      "cell_type": "markdown",
      "source": [
        "Testing on test dataset"
      ],
      "metadata": {
        "id": "wBKlnxPYHmbQ"
      }
    },
    {
      "cell_type": "code",
      "source": [
        "X_test_new = X_test.drop(X_test.columns[[2, 4]], axis=1)\n",
        "y_test_pred = q.predict(X_test_new)\n",
        "f1 = f1_score(y_test, y_test_pred,average=None)\n",
        "print(f1)"
      ],
      "metadata": {
        "colab": {
          "base_uri": "https://localhost:8080/"
        },
        "id": "ClwFXnQ-x9wF",
        "outputId": "7058ff8e-26a8-4c25-dae6-3115b8499158"
      },
      "execution_count": 120,
      "outputs": [
        {
          "output_type": "stream",
          "name": "stdout",
          "text": [
            "[0.75409836 0.70198675]\n"
          ]
        }
      ]
    },
    {
      "cell_type": "code",
      "source": [],
      "metadata": {
        "id": "j62wdKReyMnC"
      },
      "execution_count": null,
      "outputs": []
    }
  ]
}